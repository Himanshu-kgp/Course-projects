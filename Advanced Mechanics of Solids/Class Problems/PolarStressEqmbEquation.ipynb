{
 "cells": [
  {
   "cell_type": "code",
   "execution_count": 1,
   "id": "8cfddf42-3ca9-4b2d-9e33-5bfb6dbac80c",
   "metadata": {},
   "outputs": [],
   "source": [
    "import sympy as sym\n",
    "\n",
    "r, theta = sym.symbols('r, theta')\n",
    "\n",
    "delr_delx = sym.cos(theta)\n",
    "delr_dely = sym.sin(theta)\n",
    "delr_delz = 0\n",
    "\n",
    "deltheta_delx = -sym.sin(theta)/r\n",
    "deltheta_dely = sym.cos(theta)/r\n",
    "deltheta_delz = 0\n",
    "\n"
   ]
  },
  {
   "cell_type": "code",
   "execution_count": 3,
   "id": "fd9ed3ef-7d15-4292-84f1-e3080596bfff",
   "metadata": {},
   "outputs": [],
   "source": [
    "def del_delx(f):\n",
    "    return delr_delx*sym.diff(f,r) + deltheta_delx*sym.diff(f,theta) \n",
    "\n",
    "def del_dely(f):\n",
    "    return delr_dely*sym.diff(f,r) + deltheta_dely*sym.diff(f,theta) \n",
    "\n",
    "def del_delz(f):\n",
    "    return delr_delz*sym.diff(f,r) + deltheta_delz*sym.diff(f,theta) "
   ]
  },
  {
   "cell_type": "code",
   "execution_count": 5,
   "id": "6c1d63f4-4212-4b49-9d89-beb88f455b10",
   "metadata": {},
   "outputs": [
    {
     "data": {
      "text/latex": [
       "$\\displaystyle \\left[\\begin{matrix}\\cos{\\left(\\theta \\right)} & \\sin{\\left(\\theta \\right)}\\\\- \\sin{\\left(\\theta \\right)} & \\cos{\\left(\\theta \\right)}\\end{matrix}\\right]$"
      ],
      "text/plain": [
       "Matrix([\n",
       "[ cos(theta), sin(theta)],\n",
       "[-sin(theta), cos(theta)]])"
      ]
     },
     "metadata": {},
     "output_type": "display_data"
    }
   ],
   "source": [
    "Q = sym.Matrix([[sym.cos(theta), sym.sin(theta)],[-sym.sin(theta), sym.cos(theta)]])\n",
    "display(Q)"
   ]
  },
  {
   "cell_type": "code",
   "execution_count": 7,
   "id": "c14d5503-0347-4278-bbaf-b810883c3082",
   "metadata": {},
   "outputs": [
    {
     "data": {
      "text/latex": [
       "$\\displaystyle \\left[\\begin{matrix}\\sigma_{rr}{\\left(r,\\theta \\right)} & \\sigma_{r\\theta}{\\left(r,\\theta \\right)}\\\\\\sigma_{r\\theta}{\\left(r,\\theta \\right)} & \\sigma_{\\theta\\theta}{\\left(r,\\theta \\right)}\\end{matrix}\\right]$"
      ],
      "text/plain": [
       "Matrix([\n",
       "[     \\sigma_{rr}(r, theta),      \\sigma_{r\\theta}(r, theta)],\n",
       "[\\sigma_{r\\theta}(r, theta), \\sigma_{\\theta\\theta}(r, theta)]])"
      ]
     },
     "metadata": {},
     "output_type": "display_data"
    }
   ],
   "source": [
    "sigmarr = sym.Function(r'\\sigma_{rr}')(r,theta)\n",
    "sigmatt = sym.Function(r'\\sigma_{\\theta\\theta}')(r,theta)\n",
    "sigmart = sym.Function(r'\\sigma_{r\\theta}')(r,theta)\n",
    "#display(sigmarr,sigmatt, sigmart)\n",
    "stress_cyl = sym.Matrix([[sigmarr, sigmart],[sigmart, sigmatt]])\n",
    "display(stress_cyl)"
   ]
  },
  {
   "cell_type": "code",
   "execution_count": 9,
   "id": "80067bf7-288a-478a-9c52-b274913f684f",
   "metadata": {},
   "outputs": [],
   "source": [
    "stress_Cart = (Q.T)*stress_cyl*Q"
   ]
  },
  {
   "cell_type": "code",
   "execution_count": 15,
   "id": "7e269685-865c-41a8-a410-3ac66d38cee8",
   "metadata": {},
   "outputs": [],
   "source": [
    "sigmaxx = stress_Cart[0,0].simplify()\n",
    "sigmaxy = stress_Cart[0,1].simplify()\n",
    "sigmayy = stress_Cart[1,1].simplify()"
   ]
  },
  {
   "cell_type": "code",
   "execution_count": 16,
   "id": "592ff7f7-0439-4e19-a35e-07fec3e754b5",
   "metadata": {},
   "outputs": [
    {
     "data": {
      "text/latex": [
       "$\\displaystyle \\sigma_{\\theta\\theta}{\\left(r,\\theta \\right)} \\sin^{2}{\\left(\\theta \\right)} - \\sigma_{r\\theta}{\\left(r,\\theta \\right)} \\sin{\\left(2 \\theta \\right)} + \\sigma_{rr}{\\left(r,\\theta \\right)} \\cos^{2}{\\left(\\theta \\right)}$"
      ],
      "text/plain": [
       "\\sigma_{\\theta\\theta}(r, theta)*sin(theta)**2 - \\sigma_{r\\theta}(r, theta)*sin(2*theta) + \\sigma_{rr}(r, theta)*cos(theta)**2"
      ]
     },
     "metadata": {},
     "output_type": "display_data"
    },
    {
     "data": {
      "text/latex": [
       "$\\displaystyle \\sigma_{\\theta\\theta}{\\left(r,\\theta \\right)} \\cos^{2}{\\left(\\theta \\right)} + \\sigma_{r\\theta}{\\left(r,\\theta \\right)} \\sin{\\left(2 \\theta \\right)} + \\sigma_{rr}{\\left(r,\\theta \\right)} \\sin^{2}{\\left(\\theta \\right)}$"
      ],
      "text/plain": [
       "\\sigma_{\\theta\\theta}(r, theta)*cos(theta)**2 + \\sigma_{r\\theta}(r, theta)*sin(2*theta) + \\sigma_{rr}(r, theta)*sin(theta)**2"
      ]
     },
     "metadata": {},
     "output_type": "display_data"
    },
    {
     "data": {
      "text/latex": [
       "$\\displaystyle - \\frac{\\sigma_{\\theta\\theta}{\\left(r,\\theta \\right)} \\sin{\\left(2 \\theta \\right)}}{2} + \\sigma_{r\\theta}{\\left(r,\\theta \\right)} \\cos{\\left(2 \\theta \\right)} + \\frac{\\sigma_{rr}{\\left(r,\\theta \\right)} \\sin{\\left(2 \\theta \\right)}}{2}$"
      ],
      "text/plain": [
       "-\\sigma_{\\theta\\theta}(r, theta)*sin(2*theta)/2 + \\sigma_{r\\theta}(r, theta)*cos(2*theta) + \\sigma_{rr}(r, theta)*sin(2*theta)/2"
      ]
     },
     "metadata": {},
     "output_type": "display_data"
    }
   ],
   "source": [
    "display(sigmaxx, sigmayy, sigmaxy)"
   ]
  },
  {
   "cell_type": "code",
   "execution_count": 19,
   "id": "ca7a56e3-67ac-4df9-897e-b0e06b0dd724",
   "metadata": {},
   "outputs": [],
   "source": [
    "lhs1 = (del_delx(sigmaxx) + del_dely(sigmaxy)).simplify()\n",
    "lhs2 = (del_delx(sigmaxy) + del_dely(sigmayy)).simplify()"
   ]
  },
  {
   "cell_type": "code",
   "execution_count": 20,
   "id": "a0554b00-897a-4964-a14e-7ae275109bcb",
   "metadata": {},
   "outputs": [
    {
     "data": {
      "text/latex": [
       "$\\displaystyle \\frac{- r \\sin{\\left(\\theta \\right)} \\frac{\\partial}{\\partial r} \\sigma_{r\\theta}{\\left(r,\\theta \\right)} + r \\cos{\\left(\\theta \\right)} \\frac{\\partial}{\\partial r} \\sigma_{rr}{\\left(r,\\theta \\right)} - \\sigma_{\\theta\\theta}{\\left(r,\\theta \\right)} \\cos{\\left(\\theta \\right)} - 2 \\sigma_{r\\theta}{\\left(r,\\theta \\right)} \\sin{\\left(\\theta \\right)} + \\sigma_{rr}{\\left(r,\\theta \\right)} \\cos{\\left(\\theta \\right)} - \\sin{\\left(\\theta \\right)} \\frac{\\partial}{\\partial \\theta} \\sigma_{\\theta\\theta}{\\left(r,\\theta \\right)} + \\cos{\\left(\\theta \\right)} \\frac{\\partial}{\\partial \\theta} \\sigma_{r\\theta}{\\left(r,\\theta \\right)}}{r}$"
      ],
      "text/plain": [
       "(-r*sin(theta)*Derivative(\\sigma_{r\\theta}(r, theta), r) + r*cos(theta)*Derivative(\\sigma_{rr}(r, theta), r) - \\sigma_{\\theta\\theta}(r, theta)*cos(theta) - 2*\\sigma_{r\\theta}(r, theta)*sin(theta) + \\sigma_{rr}(r, theta)*cos(theta) - sin(theta)*Derivative(\\sigma_{\\theta\\theta}(r, theta), theta) + cos(theta)*Derivative(\\sigma_{r\\theta}(r, theta), theta))/r"
      ]
     },
     "metadata": {},
     "output_type": "display_data"
    },
    {
     "data": {
      "text/latex": [
       "$\\displaystyle \\frac{r \\sin{\\left(\\theta \\right)} \\frac{\\partial}{\\partial r} \\sigma_{rr}{\\left(r,\\theta \\right)} + r \\cos{\\left(\\theta \\right)} \\frac{\\partial}{\\partial r} \\sigma_{r\\theta}{\\left(r,\\theta \\right)} - \\sigma_{\\theta\\theta}{\\left(r,\\theta \\right)} \\sin{\\left(\\theta \\right)} + 2 \\sigma_{r\\theta}{\\left(r,\\theta \\right)} \\cos{\\left(\\theta \\right)} + \\sigma_{rr}{\\left(r,\\theta \\right)} \\sin{\\left(\\theta \\right)} + \\sin{\\left(\\theta \\right)} \\frac{\\partial}{\\partial \\theta} \\sigma_{r\\theta}{\\left(r,\\theta \\right)} + \\cos{\\left(\\theta \\right)} \\frac{\\partial}{\\partial \\theta} \\sigma_{\\theta\\theta}{\\left(r,\\theta \\right)}}{r}$"
      ],
      "text/plain": [
       "(r*sin(theta)*Derivative(\\sigma_{rr}(r, theta), r) + r*cos(theta)*Derivative(\\sigma_{r\\theta}(r, theta), r) - \\sigma_{\\theta\\theta}(r, theta)*sin(theta) + 2*\\sigma_{r\\theta}(r, theta)*cos(theta) + \\sigma_{rr}(r, theta)*sin(theta) + sin(theta)*Derivative(\\sigma_{r\\theta}(r, theta), theta) + cos(theta)*Derivative(\\sigma_{\\theta\\theta}(r, theta), theta))/r"
      ]
     },
     "metadata": {},
     "output_type": "display_data"
    }
   ],
   "source": [
    "display(lhs1, lhs2)"
   ]
  },
  {
   "cell_type": "code",
   "execution_count": 23,
   "id": "d026da38-7846-4044-b9c4-bb52a6d6e694",
   "metadata": {},
   "outputs": [],
   "source": [
    "div_sigma_Cart = sym.Matrix([lhs1, lhs2])"
   ]
  },
  {
   "cell_type": "code",
   "execution_count": 25,
   "id": "0ff64b91-e0ae-4274-b209-0eee779724b7",
   "metadata": {},
   "outputs": [],
   "source": [
    "div_sigma_cyl = Q*div_sigma_Cart"
   ]
  },
  {
   "cell_type": "code",
   "execution_count": 27,
   "id": "c9107f99-761c-4b8e-ac3e-f7e8979b6290",
   "metadata": {},
   "outputs": [],
   "source": [
    "div_sigma_cyl_r = div_sigma_cyl[0].simplify().expand()\n",
    "div_sigma_cyl_theta = div_sigma_cyl[1].simplify().expand()"
   ]
  },
  {
   "cell_type": "code",
   "execution_count": 29,
   "id": "4e4ccf31-4d37-4f27-a4c8-13348c141a53",
   "metadata": {},
   "outputs": [
    {
     "data": {
      "text/latex": [
       "$\\displaystyle \\frac{\\partial}{\\partial r} \\sigma_{rr}{\\left(r,\\theta \\right)} - \\frac{\\sigma_{\\theta\\theta}{\\left(r,\\theta \\right)}}{r} + \\frac{\\sigma_{rr}{\\left(r,\\theta \\right)}}{r} + \\frac{\\frac{\\partial}{\\partial \\theta} \\sigma_{r\\theta}{\\left(r,\\theta \\right)}}{r}$"
      ],
      "text/plain": [
       "Derivative(\\sigma_{rr}(r, theta), r) - \\sigma_{\\theta\\theta}(r, theta)/r + \\sigma_{rr}(r, theta)/r + Derivative(\\sigma_{r\\theta}(r, theta), theta)/r"
      ]
     },
     "metadata": {},
     "output_type": "display_data"
    },
    {
     "data": {
      "text/latex": [
       "$\\displaystyle \\frac{\\partial}{\\partial r} \\sigma_{r\\theta}{\\left(r,\\theta \\right)} + \\frac{2 \\sigma_{r\\theta}{\\left(r,\\theta \\right)}}{r} + \\frac{\\frac{\\partial}{\\partial \\theta} \\sigma_{\\theta\\theta}{\\left(r,\\theta \\right)}}{r}$"
      ],
      "text/plain": [
       "Derivative(\\sigma_{r\\theta}(r, theta), r) + 2*\\sigma_{r\\theta}(r, theta)/r + Derivative(\\sigma_{\\theta\\theta}(r, theta), theta)/r"
      ]
     },
     "metadata": {},
     "output_type": "display_data"
    }
   ],
   "source": [
    "display(div_sigma_cyl_r, div_sigma_cyl_theta)"
   ]
  },
  {
   "cell_type": "code",
   "execution_count": null,
   "id": "afa9ae05-d0c5-4807-8681-18d88847e092",
   "metadata": {},
   "outputs": [],
   "source": []
  }
 ],
 "metadata": {
  "kernelspec": {
   "display_name": "Python [conda env:base] *",
   "language": "python",
   "name": "conda-base-py"
  },
  "language_info": {
   "codemirror_mode": {
    "name": "ipython",
    "version": 3
   },
   "file_extension": ".py",
   "mimetype": "text/x-python",
   "name": "python",
   "nbconvert_exporter": "python",
   "pygments_lexer": "ipython3",
   "version": "3.12.7"
  }
 },
 "nbformat": 4,
 "nbformat_minor": 5
}
