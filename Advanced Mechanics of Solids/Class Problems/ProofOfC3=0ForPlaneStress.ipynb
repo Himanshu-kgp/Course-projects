{
 "cells": [
  {
   "cell_type": "code",
   "execution_count": 77,
   "id": "7a4467d2-33ae-4c38-a193-92a07397e60f",
   "metadata": {},
   "outputs": [],
   "source": [
    "from polarUtilities import *"
   ]
  },
  {
   "cell_type": "code",
   "execution_count": 79,
   "id": "1134569e-3836-4892-8b25-08bd976e74f4",
   "metadata": {},
   "outputs": [
    {
     "data": {
      "text/latex": [
       "$\\displaystyle \\varphi{\\left(r \\right)}$"
      ],
      "text/plain": [
       "varphi(r)"
      ]
     },
     "execution_count": 79,
     "metadata": {},
     "output_type": "execute_result"
    }
   ],
   "source": [
    "phi = sym.Function('varphi')(r)\n",
    "phi"
   ]
  },
  {
   "cell_type": "code",
   "execution_count": 81,
   "id": "106284ff-d047-4075-b476-0310d70754c2",
   "metadata": {},
   "outputs": [
    {
     "data": {
      "text/latex": [
       "$\\displaystyle C_{1} + C_{2} r^{2} + C_{3} r^{2} \\log{\\left(r \\right)} + C_{4} \\log{\\left(r \\right)}$"
      ],
      "text/plain": [
       "C1 + C2*r**2 + C3*r**2*log(r) + C4*log(r)"
      ]
     },
     "metadata": {},
     "output_type": "display_data"
    }
   ],
   "source": [
    "soln = sym.dsolve(polarBiharmonic(phi)).rhs\n",
    "display(soln)"
   ]
  },
  {
   "cell_type": "code",
   "execution_count": 83,
   "id": "fd686ad8-f2e1-4178-bc3a-cafedbbd72d1",
   "metadata": {},
   "outputs": [],
   "source": [
    "C1, C2, C3, C4 = sym.symbols('C1, C2, C3, C4')\n",
    "phi = soln"
   ]
  },
  {
   "cell_type": "code",
   "execution_count": 85,
   "id": "bc7000ed-eb8c-4aaa-ade9-46dd03c0be22",
   "metadata": {},
   "outputs": [
    {
     "data": {
      "text/latex": [
       "$\\displaystyle 2 C_{2} + 2 C_{3} \\log{\\left(r \\right)} + C_{3} + \\frac{C_{4}}{r^{2}}$"
      ],
      "text/plain": [
       "2*C2 + 2*C3*log(r) + C3 + C4/r**2"
      ]
     },
     "metadata": {},
     "output_type": "display_data"
    },
    {
     "data": {
      "text/latex": [
       "$\\displaystyle 2 C_{2} + 2 C_{3} \\log{\\left(r \\right)} + 3 C_{3} - \\frac{C_{4}}{r^{2}}$"
      ],
      "text/plain": [
       "2*C2 + 2*C3*log(r) + 3*C3 - C4/r**2"
      ]
     },
     "metadata": {},
     "output_type": "display_data"
    }
   ],
   "source": [
    "sigmarr = sigma_rr(phi)\n",
    "sigmatt = sigma_tt(phi)\n",
    "display(sigmarr, sigmatt)"
   ]
  },
  {
   "cell_type": "code",
   "execution_count": 87,
   "id": "2648de41-2173-4b1e-8f7f-1cf699b34c43",
   "metadata": {},
   "outputs": [],
   "source": [
    "E, nu = sym.symbols('E, nu')"
   ]
  },
  {
   "cell_type": "code",
   "execution_count": 89,
   "id": "26c78710-f42b-4807-8e8a-0ebebf216c80",
   "metadata": {},
   "outputs": [],
   "source": [
    "sigmazz = 0"
   ]
  },
  {
   "cell_type": "code",
   "execution_count": 91,
   "id": "6286d943-4859-4e52-a88f-6c0e837a360b",
   "metadata": {},
   "outputs": [],
   "source": [
    "epsrr = (1/E*(sigmarr - nu*(sigmatt+sigmazz))).expand()\n",
    "epstt = (1/E*(sigmatt - nu*(sigmarr+sigmazz))).expand()\n",
    "\n",
    "# display(epsrr, epstt)"
   ]
  },
  {
   "cell_type": "code",
   "execution_count": 93,
   "id": "cbd8400e-c4d3-496e-a6bb-e29ee3662ecc",
   "metadata": {},
   "outputs": [],
   "source": [
    "epsrr_dash = epstt + r*sym.diff(epstt, r)"
   ]
  },
  {
   "cell_type": "code",
   "execution_count": 95,
   "id": "282f721c-6bf3-4b24-ba9b-8d4a04017a6f",
   "metadata": {},
   "outputs": [
    {
     "data": {
      "text/latex": [
       "$\\displaystyle - \\frac{4 C_{3}}{E}$"
      ],
      "text/plain": [
       "-4*C3/E"
      ]
     },
     "execution_count": 95,
     "metadata": {},
     "output_type": "execute_result"
    }
   ],
   "source": [
    "(epsrr - epsrr_dash).simplify()"
   ]
  },
  {
   "cell_type": "code",
   "execution_count": null,
   "id": "5d51b85e-efe9-48d9-85b3-04cbdd0cf19c",
   "metadata": {},
   "outputs": [],
   "source": []
  }
 ],
 "metadata": {
  "kernelspec": {
   "display_name": "Python [conda env:base] *",
   "language": "python",
   "name": "conda-base-py"
  },
  "language_info": {
   "codemirror_mode": {
    "name": "ipython",
    "version": 3
   },
   "file_extension": ".py",
   "mimetype": "text/x-python",
   "name": "python",
   "nbconvert_exporter": "python",
   "pygments_lexer": "ipython3",
   "version": "3.12.7"
  }
 },
 "nbformat": 4,
 "nbformat_minor": 5
}
