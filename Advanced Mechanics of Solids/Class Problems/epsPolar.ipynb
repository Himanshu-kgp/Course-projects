{
 "cells": [
  {
   "cell_type": "code",
   "execution_count": 1,
   "id": "ba330237-489b-4416-97f7-db3a288211bd",
   "metadata": {},
   "outputs": [],
   "source": [
    "from polarUtilities import * ## imports everything from polarUtilities"
   ]
  },
  {
   "cell_type": "code",
   "execution_count": 12,
   "id": "6dcee0c1-a7db-4f94-92c5-21b9a90f7b8d",
   "metadata": {},
   "outputs": [
    {
     "data": {
      "text/latex": [
       "$\\displaystyle u_{r}{\\left(r,\\theta \\right)}$"
      ],
      "text/plain": [
       "u_r(r, theta)"
      ]
     },
     "metadata": {},
     "output_type": "display_data"
    },
    {
     "data": {
      "text/latex": [
       "$\\displaystyle u_{\\theta}{\\left(r,\\theta \\right)}$"
      ],
      "text/plain": [
       "u_theta(r, theta)"
      ]
     },
     "metadata": {},
     "output_type": "display_data"
    }
   ],
   "source": [
    "ur = sym.Function('u_r')(r, theta)\n",
    "ut = sym.Function('u_theta')(r, theta)\n",
    "display(ur, ut)"
   ]
  },
  {
   "cell_type": "code",
   "execution_count": 20,
   "id": "4b963bd2-ff30-4c0e-8226-4b258783e64e",
   "metadata": {},
   "outputs": [
    {
     "data": {
      "text/latex": [
       "$\\displaystyle \\left[\\begin{matrix}u_{r}{\\left(r,\\theta \\right)}\\\\u_{\\theta}{\\left(r,\\theta \\right)}\\end{matrix}\\right]$"
      ],
      "text/plain": [
       "Matrix([\n",
       "[    u_r(r, theta)],\n",
       "[u_theta(r, theta)]])"
      ]
     },
     "metadata": {},
     "output_type": "display_data"
    }
   ],
   "source": [
    "u_pol = sym.Matrix([ur, ut])\n",
    "display(u_pol)"
   ]
  },
  {
   "cell_type": "code",
   "execution_count": 24,
   "id": "9dd4ad8d-e32a-43b8-957b-05dbc4e244c1",
   "metadata": {},
   "outputs": [
    {
     "data": {
      "text/latex": [
       "$\\displaystyle \\left[\\begin{matrix}u_{r}{\\left(r,\\theta \\right)} \\cos{\\left(\\theta \\right)} - u_{\\theta}{\\left(r,\\theta \\right)} \\sin{\\left(\\theta \\right)}\\\\u_{r}{\\left(r,\\theta \\right)} \\sin{\\left(\\theta \\right)} + u_{\\theta}{\\left(r,\\theta \\right)} \\cos{\\left(\\theta \\right)}\\end{matrix}\\right]$"
      ],
      "text/plain": [
       "Matrix([\n",
       "[u_r(r, theta)*cos(theta) - u_theta(r, theta)*sin(theta)],\n",
       "[u_r(r, theta)*sin(theta) + u_theta(r, theta)*cos(theta)]])"
      ]
     },
     "metadata": {},
     "output_type": "display_data"
    }
   ],
   "source": [
    "u_cart = (Q.T)*u_pol\n",
    "display(u_cart)"
   ]
  },
  {
   "cell_type": "code",
   "execution_count": 26,
   "id": "e284976d-332c-44b5-9327-e993611d143c",
   "metadata": {},
   "outputs": [],
   "source": [
    "u = u_cart[0]\n",
    "v = u_cart[1]"
   ]
  },
  {
   "cell_type": "code",
   "execution_count": 34,
   "id": "7e897bf8-c953-45d0-83a9-ac1b3f5ffdbe",
   "metadata": {},
   "outputs": [
    {
     "data": {
      "text/latex": [
       "$\\displaystyle \\frac{r \\left(- \\sin{\\left(2 \\theta \\right)} \\frac{\\partial}{\\partial r} u_{\\theta}{\\left(r,\\theta \\right)} + \\cos{\\left(2 \\theta \\right)} \\frac{\\partial}{\\partial r} u_{r}{\\left(r,\\theta \\right)} + \\frac{\\partial}{\\partial r} u_{r}{\\left(r,\\theta \\right)}\\right) - u_{r}{\\left(r,\\theta \\right)} \\cos{\\left(2 \\theta \\right)} + u_{r}{\\left(r,\\theta \\right)} + u_{\\theta}{\\left(r,\\theta \\right)} \\sin{\\left(2 \\theta \\right)} - \\sin{\\left(2 \\theta \\right)} \\frac{\\partial}{\\partial \\theta} u_{r}{\\left(r,\\theta \\right)} - \\cos{\\left(2 \\theta \\right)} \\frac{\\partial}{\\partial \\theta} u_{\\theta}{\\left(r,\\theta \\right)} + \\frac{\\partial}{\\partial \\theta} u_{\\theta}{\\left(r,\\theta \\right)}}{2 r}$"
      ],
      "text/plain": [
       "(r*(-sin(2*theta)*Derivative(u_theta(r, theta), r) + cos(2*theta)*Derivative(u_r(r, theta), r) + Derivative(u_r(r, theta), r)) - u_r(r, theta)*cos(2*theta) + u_r(r, theta) + u_theta(r, theta)*sin(2*theta) - sin(2*theta)*Derivative(u_r(r, theta), theta) - cos(2*theta)*Derivative(u_theta(r, theta), theta) + Derivative(u_theta(r, theta), theta))/(2*r)"
      ]
     },
     "metadata": {},
     "output_type": "display_data"
    },
    {
     "data": {
      "text/latex": [
       "$\\displaystyle \\frac{r \\left(\\sin{\\left(2 \\theta \\right)} \\frac{\\partial}{\\partial r} u_{\\theta}{\\left(r,\\theta \\right)} - \\cos{\\left(2 \\theta \\right)} \\frac{\\partial}{\\partial r} u_{r}{\\left(r,\\theta \\right)} + \\frac{\\partial}{\\partial r} u_{r}{\\left(r,\\theta \\right)}\\right) + u_{r}{\\left(r,\\theta \\right)} \\cos{\\left(2 \\theta \\right)} + u_{r}{\\left(r,\\theta \\right)} - u_{\\theta}{\\left(r,\\theta \\right)} \\sin{\\left(2 \\theta \\right)} + \\sin{\\left(2 \\theta \\right)} \\frac{\\partial}{\\partial \\theta} u_{r}{\\left(r,\\theta \\right)} + \\cos{\\left(2 \\theta \\right)} \\frac{\\partial}{\\partial \\theta} u_{\\theta}{\\left(r,\\theta \\right)} + \\frac{\\partial}{\\partial \\theta} u_{\\theta}{\\left(r,\\theta \\right)}}{2 r}$"
      ],
      "text/plain": [
       "(r*(sin(2*theta)*Derivative(u_theta(r, theta), r) - cos(2*theta)*Derivative(u_r(r, theta), r) + Derivative(u_r(r, theta), r)) + u_r(r, theta)*cos(2*theta) + u_r(r, theta) - u_theta(r, theta)*sin(2*theta) + sin(2*theta)*Derivative(u_r(r, theta), theta) + cos(2*theta)*Derivative(u_theta(r, theta), theta) + Derivative(u_theta(r, theta), theta))/(2*r)"
      ]
     },
     "metadata": {},
     "output_type": "display_data"
    },
    {
     "data": {
      "text/latex": [
       "$\\displaystyle \\frac{r \\sin{\\left(2 \\theta \\right)} \\frac{\\partial}{\\partial r} u_{r}{\\left(r,\\theta \\right)} + r \\cos{\\left(2 \\theta \\right)} \\frac{\\partial}{\\partial r} u_{\\theta}{\\left(r,\\theta \\right)} - u_{r}{\\left(r,\\theta \\right)} \\sin{\\left(2 \\theta \\right)} - u_{\\theta}{\\left(r,\\theta \\right)} \\cos{\\left(2 \\theta \\right)} - \\sin{\\left(2 \\theta \\right)} \\frac{\\partial}{\\partial \\theta} u_{\\theta}{\\left(r,\\theta \\right)} + \\cos{\\left(2 \\theta \\right)} \\frac{\\partial}{\\partial \\theta} u_{r}{\\left(r,\\theta \\right)}}{2 r}$"
      ],
      "text/plain": [
       "(r*sin(2*theta)*Derivative(u_r(r, theta), r) + r*cos(2*theta)*Derivative(u_theta(r, theta), r) - u_r(r, theta)*sin(2*theta) - u_theta(r, theta)*cos(2*theta) - sin(2*theta)*Derivative(u_theta(r, theta), theta) + cos(2*theta)*Derivative(u_r(r, theta), theta))/(2*r)"
      ]
     },
     "metadata": {},
     "output_type": "display_data"
    }
   ],
   "source": [
    "epsxx = del_delx(u).simplify()\n",
    "epsyy = del_dely(v).simplify()\n",
    "epsxy = sym.Rational(1, 2)*(del_delx(v) + del_dely(u)).simplify()\n",
    "display(epsxx, epsyy, epsxy)"
   ]
  },
  {
   "cell_type": "code",
   "execution_count": 36,
   "id": "d9bb7074-c7d9-4b25-b15c-2c55a1fecca9",
   "metadata": {},
   "outputs": [],
   "source": [
    "eps_cart = sym.Matrix([[epsxx, epsxy], [epsxy, epsyy]])"
   ]
  },
  {
   "cell_type": "code",
   "execution_count": 38,
   "id": "462bd0d2-832a-43ee-9384-ec10aadcfad3",
   "metadata": {},
   "outputs": [],
   "source": [
    "eps_pol = Q*eps_cart*(Q.T)"
   ]
  },
  {
   "cell_type": "code",
   "execution_count": 42,
   "id": "7771c519-8795-4c0a-bde8-ed61f91e1928",
   "metadata": {},
   "outputs": [
    {
     "data": {
      "text/latex": [
       "$\\displaystyle \\frac{\\partial}{\\partial r} u_{r}{\\left(r,\\theta \\right)}$"
      ],
      "text/plain": [
       "Derivative(u_r(r, theta), r)"
      ]
     },
     "metadata": {},
     "output_type": "display_data"
    },
    {
     "data": {
      "text/latex": [
       "$\\displaystyle \\frac{u_{r}{\\left(r,\\theta \\right)} + \\frac{\\partial}{\\partial \\theta} u_{\\theta}{\\left(r,\\theta \\right)}}{r}$"
      ],
      "text/plain": [
       "(u_r(r, theta) + Derivative(u_theta(r, theta), theta))/r"
      ]
     },
     "metadata": {},
     "output_type": "display_data"
    },
    {
     "data": {
      "text/latex": [
       "$\\displaystyle \\frac{r \\frac{\\partial}{\\partial r} u_{\\theta}{\\left(r,\\theta \\right)} - u_{\\theta}{\\left(r,\\theta \\right)} + \\frac{\\partial}{\\partial \\theta} u_{r}{\\left(r,\\theta \\right)}}{2 r}$"
      ],
      "text/plain": [
       "(r*Derivative(u_theta(r, theta), r) - u_theta(r, theta) + Derivative(u_r(r, theta), theta))/(2*r)"
      ]
     },
     "metadata": {},
     "output_type": "display_data"
    }
   ],
   "source": [
    "eps_rr = eps_pol[0, 0].simplify()\n",
    "eps_tt = eps_pol[1, 1].simplify()\n",
    "eps_rt = eps_pol[1, 0].simplify()\n",
    "display(eps_rr, eps_tt, eps_rt)"
   ]
  }
 ],
 "metadata": {
  "kernelspec": {
   "display_name": "Python [conda env:base] *",
   "language": "python",
   "name": "conda-base-py"
  },
  "language_info": {
   "codemirror_mode": {
    "name": "ipython",
    "version": 3
   },
   "file_extension": ".py",
   "mimetype": "text/x-python",
   "name": "python",
   "nbconvert_exporter": "python",
   "pygments_lexer": "ipython3",
   "version": "3.12.7"
  }
 },
 "nbformat": 4,
 "nbformat_minor": 5
}
