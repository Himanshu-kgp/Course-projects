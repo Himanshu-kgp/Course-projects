{
 "cells": [
  {
   "cell_type": "code",
   "execution_count": 2,
   "id": "8c2a860d-31ef-44e0-b4d5-05420544f9e1",
   "metadata": {},
   "outputs": [],
   "source": [
    "from polarUtilities import *"
   ]
  },
  {
   "cell_type": "code",
   "execution_count": 4,
   "id": "c692c2cf-5a69-41d5-8f44-e39e7ffa85c3",
   "metadata": {},
   "outputs": [],
   "source": [
    "S = sym.symbols('S', positive=True)"
   ]
  },
  {
   "cell_type": "code",
   "execution_count": 6,
   "id": "db814449-600b-47f7-989b-b8e57fe1af24",
   "metadata": {},
   "outputs": [
    {
     "data": {
      "text/latex": [
       "$\\displaystyle \\frac{S r^{2} \\sin^{2}{\\left(\\theta \\right)}}{2}$"
      ],
      "text/plain": [
       "S*r**2*sin(theta)**2/2"
      ]
     },
     "metadata": {},
     "output_type": "display_data"
    }
   ],
   "source": [
    "phi = sym.Rational(1, 2)*S*r**2*(sym.sin(theta))**2\n",
    "display(phi)"
   ]
  },
  {
   "cell_type": "code",
   "execution_count": 10,
   "id": "208d1848-1817-42ce-a670-fb957d0468f6",
   "metadata": {},
   "outputs": [
    {
     "data": {
      "text/latex": [
       "$\\displaystyle S \\cos^{2}{\\left(\\theta \\right)}$"
      ],
      "text/plain": [
       "S*cos(theta)**2"
      ]
     },
     "metadata": {},
     "output_type": "display_data"
    },
    {
     "data": {
      "text/latex": [
       "$\\displaystyle S \\sin^{2}{\\left(\\theta \\right)}$"
      ],
      "text/plain": [
       "S*sin(theta)**2"
      ]
     },
     "metadata": {},
     "output_type": "display_data"
    },
    {
     "data": {
      "text/latex": [
       "$\\displaystyle - \\frac{S \\sin{\\left(2 \\theta \\right)}}{2}$"
      ],
      "text/plain": [
       "-S*sin(2*theta)/2"
      ]
     },
     "metadata": {},
     "output_type": "display_data"
    }
   ],
   "source": [
    "sigmarr = sigma_rr(phi)\n",
    "sigmatt = sigma_tt(phi)\n",
    "sigmart = sigma_rt(phi)\n",
    "display(sigmarr, sigmatt, sigmart)"
   ]
  },
  {
   "cell_type": "markdown",
   "id": "954e08ce-ec45-4152-bc3a-40dec2335cce",
   "metadata": {},
   "source": [
    "## Sub-problem 1"
   ]
  },
  {
   "cell_type": "code",
   "execution_count": 23,
   "id": "f3e285e0-4997-4471-9dfa-e6a1a6f0544b",
   "metadata": {},
   "outputs": [
    {
     "data": {
      "text/latex": [
       "$\\displaystyle \\varphi_{1}{\\left(r \\right)}$"
      ],
      "text/plain": [
       "varphi_1(r)"
      ]
     },
     "execution_count": 23,
     "metadata": {},
     "output_type": "execute_result"
    }
   ],
   "source": [
    "phi1 = sym.Function('varphi_1')(r)\n",
    "phi1"
   ]
  },
  {
   "cell_type": "code",
   "execution_count": 31,
   "id": "9d8311e4-7f37-4e25-aa96-0754ff57d1df",
   "metadata": {},
   "outputs": [
    {
     "data": {
      "text/latex": [
       "$\\displaystyle \\frac{d^{4}}{d r^{4}} \\varphi_{1}{\\left(r \\right)} + \\frac{2 \\frac{d^{3}}{d r^{3}} \\varphi_{1}{\\left(r \\right)}}{r} - \\frac{\\frac{d^{2}}{d r^{2}} \\varphi_{1}{\\left(r \\right)}}{r^{2}} + \\frac{\\frac{d}{d r} \\varphi_{1}{\\left(r \\right)}}{r^{3}} = 0$"
      ],
      "text/plain": [
       "Eq(Derivative(varphi_1(r), (r, 4)) + 2*Derivative(varphi_1(r), (r, 3))/r - Derivative(varphi_1(r), (r, 2))/r**2 + Derivative(varphi_1(r), r)/r**3, 0)"
      ]
     },
     "metadata": {},
     "output_type": "display_data"
    }
   ],
   "source": [
    "eq1 = sym.Eq(polarBiharmonic(phi1), 0)\n",
    "display(eq1)"
   ]
  },
  {
   "cell_type": "code",
   "execution_count": 35,
   "id": "c9c3f0e9-2dc1-4671-8b16-9a3a3f2f8cf4",
   "metadata": {},
   "outputs": [
    {
     "data": {
      "text/latex": [
       "$\\displaystyle C_{1} + C_{2} r^{2} + C_{3} r^{2} \\log{\\left(r \\right)} + C_{4} \\log{\\left(r \\right)}$"
      ],
      "text/plain": [
       "C1 + C2*r**2 + C3*r**2*log(r) + C4*log(r)"
      ]
     },
     "execution_count": 35,
     "metadata": {},
     "output_type": "execute_result"
    }
   ],
   "source": [
    "eq1_soln = sym.dsolve(eq1).rhs\n",
    "eq1_soln"
   ]
  },
  {
   "cell_type": "code",
   "execution_count": 37,
   "id": "9d9be216-d103-4a72-93e7-083373785feb",
   "metadata": {},
   "outputs": [],
   "source": [
    "C1, C2, C3, C4 = sym.symbols('C1, C2, C3, C4')"
   ]
  },
  {
   "cell_type": "code",
   "execution_count": 43,
   "id": "5ae6f433-6f79-4a0a-9a67-086f1c044263",
   "metadata": {},
   "outputs": [
    {
     "data": {
      "text/latex": [
       "$\\displaystyle C_{1} + C_{2} r^{2} + C_{4} \\log{\\left(r \\right)}$"
      ],
      "text/plain": [
       "C1 + C2*r**2 + C4*log(r)"
      ]
     },
     "execution_count": 43,
     "metadata": {},
     "output_type": "execute_result"
    }
   ],
   "source": [
    "eq1_soln_mod = eq1_soln.subs(C3, 0)\n",
    "eq1_soln_mod"
   ]
  },
  {
   "cell_type": "code",
   "execution_count": 45,
   "id": "63956ca9-f375-4d63-9eed-cfa50e256fce",
   "metadata": {},
   "outputs": [
    {
     "data": {
      "text/latex": [
       "$\\displaystyle 2 C_{2} + \\frac{C_{4}}{r^{2}}$"
      ],
      "text/plain": [
       "2*C2 + C4/r**2"
      ]
     },
     "metadata": {},
     "output_type": "display_data"
    },
    {
     "data": {
      "text/latex": [
       "$\\displaystyle 2 C_{2} - \\frac{C_{4}}{r^{2}}$"
      ],
      "text/plain": [
       "2*C2 - C4/r**2"
      ]
     },
     "metadata": {},
     "output_type": "display_data"
    },
    {
     "data": {
      "text/latex": [
       "$\\displaystyle 0$"
      ],
      "text/plain": [
       "0"
      ]
     },
     "metadata": {},
     "output_type": "display_data"
    }
   ],
   "source": [
    "sigmarr1 = sigma_rr(eq1_soln_mod)\n",
    "sigmatt1 = sigma_tt(eq1_soln_mod)\n",
    "sigmart1 = sigma_rt(eq1_soln_mod)\n",
    "display(sigmarr1, sigmatt1, sigmart1)"
   ]
  },
  {
   "cell_type": "code",
   "execution_count": 49,
   "id": "675797ca-ff12-4c6e-b63a-277710e41c4c",
   "metadata": {},
   "outputs": [],
   "source": [
    "a, b = sym.symbols('a, b', positive=True)"
   ]
  },
  {
   "cell_type": "code",
   "execution_count": 51,
   "id": "e8801fa7-0bc8-427a-95d2-e52a0ed13ff3",
   "metadata": {},
   "outputs": [
    {
     "data": {
      "text/latex": [
       "$\\displaystyle 2 C_{2} + \\frac{C_{4}}{b^{2}} = \\frac{S}{2}$"
      ],
      "text/plain": [
       "Eq(2*C2 + C4/b**2, S/2)"
      ]
     },
     "metadata": {},
     "output_type": "display_data"
    },
    {
     "data": {
      "text/latex": [
       "$\\displaystyle \\text{True}$"
      ],
      "text/plain": [
       "True"
      ]
     },
     "metadata": {},
     "output_type": "display_data"
    },
    {
     "data": {
      "text/latex": [
       "$\\displaystyle 2 C_{2} + \\frac{C_{4}}{a^{2}} = 0$"
      ],
      "text/plain": [
       "Eq(2*C2 + C4/a**2, 0)"
      ]
     },
     "metadata": {},
     "output_type": "display_data"
    },
    {
     "data": {
      "text/latex": [
       "$\\displaystyle \\text{True}$"
      ],
      "text/plain": [
       "True"
      ]
     },
     "metadata": {},
     "output_type": "display_data"
    }
   ],
   "source": [
    "bc_o1 = sym.Eq(sigmarr1.subs(r, b), sym.Rational(1, 2)*S)\n",
    "bc_o2 = sym.Eq(sigmart1.subs(r, b), 0)\n",
    "bc_i1 = sym.Eq(sigmarr1.subs(r, a), 0)\n",
    "bc_i2 = sym.Eq(sigmart1.subs(r, a), 0)\n",
    "\n",
    "display(bc_o1, bc_o2, bc_i1, bc_i2)\n"
   ]
  },
  {
   "cell_type": "code",
   "execution_count": 57,
   "id": "2b4c6349-5a6c-4570-90b2-8830ffd33dd6",
   "metadata": {},
   "outputs": [
    {
     "data": {
      "text/plain": [
       "{C2: -S*b**2/(4*a**2 - 4*b**2), C4: S*a**2*b**2/(2*a**2 - 2*b**2)}"
      ]
     },
     "execution_count": 57,
     "metadata": {},
     "output_type": "execute_result"
    }
   ],
   "source": [
    "const_soln1 = sym.solve([bc_o1, bc_o2, bc_i1, bc_i2], [C2, C4])\n",
    "const_soln1"
   ]
  },
  {
   "cell_type": "code",
   "execution_count": 65,
   "id": "ad67df45-f4a6-418d-b980-bd74d8ccbd21",
   "metadata": {},
   "outputs": [
    {
     "data": {
      "text/latex": [
       "$\\displaystyle \\frac{S a^{2} b^{2}}{r^{2} \\left(2 a^{2} - 2 b^{2}\\right)} - \\frac{2 S b^{2}}{4 a^{2} - 4 b^{2}}$"
      ],
      "text/plain": [
       "S*a**2*b**2/(r**2*(2*a**2 - 2*b**2)) - 2*S*b**2/(4*a**2 - 4*b**2)"
      ]
     },
     "metadata": {},
     "output_type": "display_data"
    },
    {
     "data": {
      "text/latex": [
       "$\\displaystyle - \\frac{S a^{2} b^{2}}{r^{2} \\left(2 a^{2} - 2 b^{2}\\right)} - \\frac{2 S b^{2}}{4 a^{2} - 4 b^{2}}$"
      ],
      "text/plain": [
       "-S*a**2*b**2/(r**2*(2*a**2 - 2*b**2)) - 2*S*b**2/(4*a**2 - 4*b**2)"
      ]
     },
     "metadata": {},
     "output_type": "display_data"
    },
    {
     "data": {
      "text/latex": [
       "$\\displaystyle 0$"
      ],
      "text/plain": [
       "0"
      ]
     },
     "metadata": {},
     "output_type": "display_data"
    }
   ],
   "source": [
    "sigmarr1 = sigmarr1.subs(const_soln1)\n",
    "sigmatt1 = sigmatt1.subs(const_soln1)\n",
    "sigmart1 = sigmart1.subs(const_soln1)\n",
    "display(sigmarr1, sigmatt1, sigmart1)"
   ]
  },
  {
   "cell_type": "code",
   "execution_count": 67,
   "id": "032205e9-8e70-42a3-9f57-673a345e2b22",
   "metadata": {},
   "outputs": [
    {
     "data": {
      "text/latex": [
       "$\\displaystyle \\frac{- S a^{2} + S r^{2}}{2 r^{2}}$"
      ],
      "text/plain": [
       "(-S*a**2 + S*r**2)/(2*r**2)"
      ]
     },
     "metadata": {},
     "output_type": "display_data"
    },
    {
     "data": {
      "text/latex": [
       "$\\displaystyle \\frac{S a^{2} + S r^{2}}{2 r^{2}}$"
      ],
      "text/plain": [
       "(S*a**2 + S*r**2)/(2*r**2)"
      ]
     },
     "metadata": {},
     "output_type": "display_data"
    },
    {
     "data": {
      "text/latex": [
       "$\\displaystyle 0$"
      ],
      "text/plain": [
       "0"
      ]
     },
     "metadata": {},
     "output_type": "display_data"
    }
   ],
   "source": [
    "sigmarr1 = sym.limit(sigmarr1, b, sym.oo)\n",
    "sigmatt1 = sym.limit(sigmatt1, b, sym.oo)\n",
    "sigmart1 = sym.limit(sigmart1, b, sym.oo)\n",
    "display(sigmarr1, sigmatt1, sigmart1)"
   ]
  },
  {
   "cell_type": "markdown",
   "id": "f4dc6b3c-9f45-4b90-b62a-0279ad9e48da",
   "metadata": {},
   "source": [
    "## Sub-problem 2"
   ]
  },
  {
   "cell_type": "code",
   "execution_count": 70,
   "id": "c1ca7f6b-6e5c-455b-8f76-c6b9541f080f",
   "metadata": {},
   "outputs": [
    {
     "data": {
      "text/latex": [
       "$\\displaystyle g{\\left(r \\right)} \\cos{\\left(2 \\theta \\right)}$"
      ],
      "text/plain": [
       "g(r)*cos(2*theta)"
      ]
     },
     "execution_count": 70,
     "metadata": {},
     "output_type": "execute_result"
    }
   ],
   "source": [
    "g = sym.Function('g')(r)\n",
    "phi2 = g*sym.cos(2*theta)\n",
    "phi2"
   ]
  },
  {
   "cell_type": "code",
   "execution_count": 74,
   "id": "6578e5c6-e2fe-421e-9fdb-48917594b48e",
   "metadata": {},
   "outputs": [
    {
     "data": {
      "text/latex": [
       "$\\displaystyle \\frac{\\cos{\\left(2 \\theta \\right)} \\frac{d}{d r} g{\\left(r \\right)}}{r} - \\frac{4 g{\\left(r \\right)} \\cos{\\left(2 \\theta \\right)}}{r^{2}}$"
      ],
      "text/plain": [
       "cos(2*theta)*Derivative(g(r), r)/r - 4*g(r)*cos(2*theta)/r**2"
      ]
     },
     "metadata": {},
     "output_type": "display_data"
    },
    {
     "data": {
      "text/latex": [
       "$\\displaystyle \\cos{\\left(2 \\theta \\right)} \\frac{d^{2}}{d r^{2}} g{\\left(r \\right)}$"
      ],
      "text/plain": [
       "cos(2*theta)*Derivative(g(r), (r, 2))"
      ]
     },
     "metadata": {},
     "output_type": "display_data"
    },
    {
     "data": {
      "text/latex": [
       "$\\displaystyle \\frac{2 \\sin{\\left(2 \\theta \\right)} \\frac{d}{d r} g{\\left(r \\right)}}{r} - \\frac{2 g{\\left(r \\right)} \\sin{\\left(2 \\theta \\right)}}{r^{2}}$"
      ],
      "text/plain": [
       "2*sin(2*theta)*Derivative(g(r), r)/r - 2*g(r)*sin(2*theta)/r**2"
      ]
     },
     "metadata": {},
     "output_type": "display_data"
    }
   ],
   "source": [
    "sigmarr2 = sigma_rr(phi2)\n",
    "sigmatt2 = sigma_tt(phi2)\n",
    "sigmart2 = sigma_rt(phi2)\n",
    "display(sigmarr2, sigmatt2, sigmart2)"
   ]
  },
  {
   "cell_type": "code",
   "execution_count": 80,
   "id": "2771942e-177b-4061-9ed3-c4fe5bbf98a1",
   "metadata": {},
   "outputs": [
    {
     "data": {
      "text/latex": [
       "$\\displaystyle \\frac{\\left(r^{3} \\frac{d^{4}}{d r^{4}} g{\\left(r \\right)} + 2 r^{2} \\frac{d^{3}}{d r^{3}} g{\\left(r \\right)} - 9 r \\frac{d^{2}}{d r^{2}} g{\\left(r \\right)} + 9 \\frac{d}{d r} g{\\left(r \\right)}\\right) \\cos{\\left(2 \\theta \\right)}}{r^{3}} = 0$"
      ],
      "text/plain": [
       "Eq((r**3*Derivative(g(r), (r, 4)) + 2*r**2*Derivative(g(r), (r, 3)) - 9*r*Derivative(g(r), (r, 2)) + 9*Derivative(g(r), r))*cos(2*theta)/r**3, 0)"
      ]
     },
     "execution_count": 80,
     "metadata": {},
     "output_type": "execute_result"
    }
   ],
   "source": [
    "eq2 = sym.Eq(polarBiharmonic(phi2), 0).simplify()\n",
    "eq2"
   ]
  },
  {
   "cell_type": "code",
   "execution_count": 90,
   "id": "93ad7a5f-3533-4f19-9224-f1d4683121b3",
   "metadata": {},
   "outputs": [
    {
     "data": {
      "text/latex": [
       "$\\displaystyle \\left(C_{1} + \\frac{C_{2}}{r^{2}} + C_{3} r^{2} + C_{4} r^{4}\\right) \\cos{\\left(2 \\theta \\right)}$"
      ],
      "text/plain": [
       "(C1 + C2/r**2 + C3*r**2 + C4*r**4)*cos(2*theta)"
      ]
     },
     "execution_count": 90,
     "metadata": {},
     "output_type": "execute_result"
    }
   ],
   "source": [
    "eq2_soln = sym.dsolve(eq2).rhs*sym.cos(2*theta)\n",
    "eq2_soln"
   ]
  },
  {
   "cell_type": "code",
   "execution_count": 92,
   "id": "f5f0aa87-1e1b-4c23-bf17-4669381c789d",
   "metadata": {},
   "outputs": [
    {
     "data": {
      "text/latex": [
       "$\\displaystyle - \\frac{4 C_{1} \\cos{\\left(2 \\theta \\right)}}{r^{2}} - \\frac{6 C_{2} \\cos{\\left(2 \\theta \\right)}}{r^{4}} - 2 C_{3} \\cos{\\left(2 \\theta \\right)}$"
      ],
      "text/plain": [
       "-4*C1*cos(2*theta)/r**2 - 6*C2*cos(2*theta)/r**4 - 2*C3*cos(2*theta)"
      ]
     },
     "metadata": {},
     "output_type": "display_data"
    },
    {
     "data": {
      "text/latex": [
       "$\\displaystyle \\frac{6 C_{2} \\cos{\\left(2 \\theta \\right)}}{r^{4}} + 2 C_{3} \\cos{\\left(2 \\theta \\right)} + 12 C_{4} r^{2} \\cos{\\left(2 \\theta \\right)}$"
      ],
      "text/plain": [
       "6*C2*cos(2*theta)/r**4 + 2*C3*cos(2*theta) + 12*C4*r**2*cos(2*theta)"
      ]
     },
     "metadata": {},
     "output_type": "display_data"
    },
    {
     "data": {
      "text/latex": [
       "$\\displaystyle - \\frac{2 C_{1} \\sin{\\left(2 \\theta \\right)}}{r^{2}} - \\frac{6 C_{2} \\sin{\\left(2 \\theta \\right)}}{r^{4}} + 2 C_{3} \\sin{\\left(2 \\theta \\right)} + 6 C_{4} r^{2} \\sin{\\left(2 \\theta \\right)}$"
      ],
      "text/plain": [
       "-2*C1*sin(2*theta)/r**2 - 6*C2*sin(2*theta)/r**4 + 2*C3*sin(2*theta) + 6*C4*r**2*sin(2*theta)"
      ]
     },
     "metadata": {},
     "output_type": "display_data"
    }
   ],
   "source": [
    "sigmarr2 = sigma_rr(eq2_soln)\n",
    "sigmatt2 = sigma_tt(eq2_soln)\n",
    "sigmart2 = sigma_rt(eq2_soln)\n",
    "display(sigmarr2, sigmatt2, sigmart2)"
   ]
  },
  {
   "cell_type": "code",
   "execution_count": 94,
   "id": "bf09d257-971d-46ec-b638-7b494ac7d0bc",
   "metadata": {},
   "outputs": [],
   "source": [
    "bc_O1 = sym.Eq(sigmarr2.subs(r, b), sym.Rational(1, 2)*S*sym.cos(2*theta))\n",
    "bc_O2 = sym.Eq(sigmart2.subs(r, b), -sym.Rational(1, 2)*S*sym.sin(2*theta))\n",
    "\n",
    "bc_I1 = sym.Eq(sigmarr2.subs(r, a), 0)\n",
    "bc_I2 = sym.Eq(sigmart2.subs(r, a), 0)"
   ]
  },
  {
   "cell_type": "code",
   "execution_count": 96,
   "id": "d4f0c143-91a6-425d-8ad5-73c7844b7b7d",
   "metadata": {},
   "outputs": [
    {
     "data": {
      "text/plain": [
       "{C1: -S*a**6*b**2/(2*a**6 - 6*a**4*b**2 + 6*a**2*b**4 - 2*b**6) - S*a**4*b**4/(2*a**6 - 6*a**4*b**2 + 6*a**2*b**4 - 2*b**6) - S*a**2*b**6/(2*a**6 - 6*a**4*b**2 + 6*a**2*b**4 - 2*b**6),\n",
       " C2: S*a**6*b**4/(4*a**6 - 12*a**4*b**2 + 12*a**2*b**4 - 4*b**6) + S*a**4*b**6/(4*a**6 - 12*a**4*b**2 + 12*a**2*b**4 - 4*b**6),\n",
       " C3: 4*S*a**4*b**2/(4*a**6 - 12*a**4*b**2 + 12*a**2*b**4 - 4*b**6) + S*a**2*b**4/(4*a**6 - 12*a**4*b**2 + 12*a**2*b**4 - 4*b**6) + S*b**6/(4*a**6 - 12*a**4*b**2 + 12*a**2*b**4 - 4*b**6),\n",
       " C4: -S*a**2*b**2/(2*a**6 - 6*a**4*b**2 + 6*a**2*b**4 - 2*b**6)}"
      ]
     },
     "execution_count": 96,
     "metadata": {},
     "output_type": "execute_result"
    }
   ],
   "source": [
    "const_soln2 = sym.solve([bc_O1, bc_O2, bc_I1, bc_I2], [C1, C2, C3, C4])\n",
    "const_soln2"
   ]
  },
  {
   "cell_type": "code",
   "execution_count": 106,
   "id": "09d4fd93-1fb2-4ac2-8b5b-8b0bb6292fe2",
   "metadata": {},
   "outputs": [
    {
     "data": {
      "text/latex": [
       "$\\displaystyle - \\frac{S b^{2} \\left(3 a^{4} b^{2} \\left(a^{2} + b^{2}\\right) - 4 a^{2} r^{2} \\left(a^{4} + a^{2} b^{2} + b^{4}\\right) + r^{4} \\left(4 a^{4} + a^{2} b^{2} + b^{4}\\right)\\right) \\cos{\\left(2 \\theta \\right)}}{2 r^{4} \\left(a^{6} - 3 a^{4} b^{2} + 3 a^{2} b^{4} - b^{6}\\right)}$"
      ],
      "text/plain": [
       "-S*b**2*(3*a**4*b**2*(a**2 + b**2) - 4*a**2*r**2*(a**4 + a**2*b**2 + b**4) + r**4*(4*a**4 + a**2*b**2 + b**4))*cos(2*theta)/(2*r**4*(a**6 - 3*a**4*b**2 + 3*a**2*b**4 - b**6))"
      ]
     },
     "metadata": {},
     "output_type": "display_data"
    },
    {
     "data": {
      "text/latex": [
       "$\\displaystyle \\frac{S b^{2} \\left(- 3 a^{4} b^{2} \\left(a^{2} + b^{2}\\right) - 6 a^{2} r^{6} + 2 a^{2} r^{2} \\left(a^{4} + a^{2} b^{2} + b^{4}\\right) + r^{4} \\left(4 a^{4} + a^{2} b^{2} + b^{4}\\right)\\right) \\sin{\\left(2 \\theta \\right)}}{2 r^{4} \\left(a^{6} - 3 a^{4} b^{2} + 3 a^{2} b^{4} - b^{6}\\right)}$"
      ],
      "text/plain": [
       "S*b**2*(-3*a**4*b**2*(a**2 + b**2) - 6*a**2*r**6 + 2*a**2*r**2*(a**4 + a**2*b**2 + b**4) + r**4*(4*a**4 + a**2*b**2 + b**4))*sin(2*theta)/(2*r**4*(a**6 - 3*a**4*b**2 + 3*a**2*b**4 - b**6))"
      ]
     },
     "metadata": {},
     "output_type": "display_data"
    },
    {
     "data": {
      "text/latex": [
       "$\\displaystyle \\frac{S b^{2} \\left(3 a^{4} b^{2} \\left(a^{2} + b^{2}\\right) - 12 a^{2} r^{6} + r^{4} \\left(4 a^{4} + a^{2} b^{2} + b^{4}\\right)\\right) \\cos{\\left(2 \\theta \\right)}}{2 r^{4} \\left(a^{6} - 3 a^{4} b^{2} + 3 a^{2} b^{4} - b^{6}\\right)}$"
      ],
      "text/plain": [
       "S*b**2*(3*a**4*b**2*(a**2 + b**2) - 12*a**2*r**6 + r**4*(4*a**4 + a**2*b**2 + b**4))*cos(2*theta)/(2*r**4*(a**6 - 3*a**4*b**2 + 3*a**2*b**4 - b**6))"
      ]
     },
     "metadata": {},
     "output_type": "display_data"
    }
   ],
   "source": [
    "sigmarr2 = sigmarr2.subs(const_soln2).simplify()\n",
    "sigmatt2 = sigmatt2.subs(const_soln2).simplify()\n",
    "sigmart2 = sigmart2.subs(const_soln2).simplify()\n",
    "display(sigmarr2, sigmart2, sigmatt2)"
   ]
  },
  {
   "cell_type": "markdown",
   "id": "05b6b018-5a96-41c8-b861-ab6447e3ef99",
   "metadata": {},
   "source": [
    "## Final solution"
   ]
  },
  {
   "cell_type": "code",
   "execution_count": 109,
   "id": "d7b5c5c2-8132-4bce-91f0-868f15285ed2",
   "metadata": {},
   "outputs": [],
   "source": [
    "sigmarr = sigmarr1 + sigmarr2\n",
    "sigmatt = sigmatt1 + sigmatt2\n",
    "sigmart = sigmart1 + sigmart2"
   ]
  },
  {
   "cell_type": "code",
   "execution_count": 111,
   "id": "9b8c2284-5226-41d5-9a8b-e68ecfca2502",
   "metadata": {},
   "outputs": [
    {
     "data": {
      "text/latex": [
       "$\\displaystyle - \\frac{S b^{2} \\left(3 a^{4} b^{2} \\left(a^{2} + b^{2}\\right) - 4 a^{2} r^{2} \\left(a^{4} + a^{2} b^{2} + b^{4}\\right) + r^{4} \\left(4 a^{4} + a^{2} b^{2} + b^{4}\\right)\\right) \\cos{\\left(2 \\theta \\right)}}{2 r^{4} \\left(a^{6} - 3 a^{4} b^{2} + 3 a^{2} b^{4} - b^{6}\\right)} + \\frac{- S a^{2} + S r^{2}}{2 r^{2}}$"
      ],
      "text/plain": [
       "-S*b**2*(3*a**4*b**2*(a**2 + b**2) - 4*a**2*r**2*(a**4 + a**2*b**2 + b**4) + r**4*(4*a**4 + a**2*b**2 + b**4))*cos(2*theta)/(2*r**4*(a**6 - 3*a**4*b**2 + 3*a**2*b**4 - b**6)) + (-S*a**2 + S*r**2)/(2*r**2)"
      ]
     },
     "metadata": {},
     "output_type": "display_data"
    },
    {
     "data": {
      "text/latex": [
       "$\\displaystyle \\frac{S b^{2} \\left(3 a^{4} b^{2} \\left(a^{2} + b^{2}\\right) - 12 a^{2} r^{6} + r^{4} \\left(4 a^{4} + a^{2} b^{2} + b^{4}\\right)\\right) \\cos{\\left(2 \\theta \\right)}}{2 r^{4} \\left(a^{6} - 3 a^{4} b^{2} + 3 a^{2} b^{4} - b^{6}\\right)} + \\frac{S a^{2} + S r^{2}}{2 r^{2}}$"
      ],
      "text/plain": [
       "S*b**2*(3*a**4*b**2*(a**2 + b**2) - 12*a**2*r**6 + r**4*(4*a**4 + a**2*b**2 + b**4))*cos(2*theta)/(2*r**4*(a**6 - 3*a**4*b**2 + 3*a**2*b**4 - b**6)) + (S*a**2 + S*r**2)/(2*r**2)"
      ]
     },
     "metadata": {},
     "output_type": "display_data"
    },
    {
     "data": {
      "text/latex": [
       "$\\displaystyle \\frac{S b^{2} \\left(- 3 a^{4} b^{2} \\left(a^{2} + b^{2}\\right) - 6 a^{2} r^{6} + 2 a^{2} r^{2} \\left(a^{4} + a^{2} b^{2} + b^{4}\\right) + r^{4} \\left(4 a^{4} + a^{2} b^{2} + b^{4}\\right)\\right) \\sin{\\left(2 \\theta \\right)}}{2 r^{4} \\left(a^{6} - 3 a^{4} b^{2} + 3 a^{2} b^{4} - b^{6}\\right)}$"
      ],
      "text/plain": [
       "S*b**2*(-3*a**4*b**2*(a**2 + b**2) - 6*a**2*r**6 + 2*a**2*r**2*(a**4 + a**2*b**2 + b**4) + r**4*(4*a**4 + a**2*b**2 + b**4))*sin(2*theta)/(2*r**4*(a**6 - 3*a**4*b**2 + 3*a**2*b**4 - b**6))"
      ]
     },
     "metadata": {},
     "output_type": "display_data"
    }
   ],
   "source": [
    "display(sigmarr, sigmatt, sigmart)"
   ]
  },
  {
   "cell_type": "code",
   "execution_count": null,
   "id": "e52043ba-3a18-42c7-b954-249ab9c19566",
   "metadata": {},
   "outputs": [],
   "source": []
  }
 ],
 "metadata": {
  "kernelspec": {
   "display_name": "Python [conda env:base] *",
   "language": "python",
   "name": "conda-base-py"
  },
  "language_info": {
   "codemirror_mode": {
    "name": "ipython",
    "version": 3
   },
   "file_extension": ".py",
   "mimetype": "text/x-python",
   "name": "python",
   "nbconvert_exporter": "python",
   "pygments_lexer": "ipython3",
   "version": "3.12.7"
  }
 },
 "nbformat": 4,
 "nbformat_minor": 5
}
