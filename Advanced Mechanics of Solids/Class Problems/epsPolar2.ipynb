{
 "cells": [
  {
   "cell_type": "code",
   "execution_count": 1,
   "id": "9a23cf76-6aff-495a-b1cc-d0362d83ed10",
   "metadata": {},
   "outputs": [],
   "source": [
    "from polarUtilities import *"
   ]
  },
  {
   "cell_type": "code",
   "execution_count": 2,
   "id": "69e09e7c-977d-4058-8679-c4efdcd0c302",
   "metadata": {},
   "outputs": [],
   "source": [
    "ur = sym.Function('u_r')(r, theta)\n",
    "ut = sym.Function('u_theta')(r, theta)\n",
    "u_pol = sym.Matrix([ur, ut]);"
   ]
  },
  {
   "cell_type": "code",
   "execution_count": 3,
   "id": "2501cc9d-16f6-439c-b667-c1edba19cca9",
   "metadata": {},
   "outputs": [],
   "source": [
    "u_cart = (Q.T)*u_pol;\n",
    "u = u_cart[0]\n",
    "v = u_cart[1]"
   ]
  },
  {
   "cell_type": "code",
   "execution_count": 4,
   "id": "b2578fa5-05df-45f2-b458-3a352519a5d6",
   "metadata": {},
   "outputs": [],
   "source": [
    "Fxx = del_delx(u)\n",
    "Fxy = del_dely(u)\n",
    "Fyx = del_delx(v)\n",
    "Fyy = del_dely(v)\n",
    "\n",
    "F_cart = sym.Matrix([[Fxx, Fxy], [Fyx, Fyy]]);"
   ]
  },
  {
   "cell_type": "code",
   "execution_count": 5,
   "id": "31520913-3fa8-4228-8af6-43b12eca8521",
   "metadata": {},
   "outputs": [],
   "source": [
    "F_pol = Q*F_cart*(Q.T)\n",
    "I = sym.Matrix([[1, 0], [0, 1]])\n",
    "eps_pol = sym.Rational(1, 2)*((F_pol.T)*F_pol - I)"
   ]
  },
  {
   "cell_type": "code",
   "execution_count": 16,
   "id": "e5487eca-cbe1-45c7-a24e-0e17e49292f2",
   "metadata": {},
   "outputs": [
    {
     "data": {
      "text/latex": [
       "$\\displaystyle \\frac{\\left(\\frac{\\partial}{\\partial r} u_{r}{\\left(r,\\theta \\right)}\\right)^{2}}{2} + \\frac{\\left(\\frac{\\partial}{\\partial r} u_{\\theta}{\\left(r,\\theta \\right)}\\right)^{2}}{2} - \\frac{1}{2}$"
      ],
      "text/plain": [
       "Derivative(u_r(r, theta), r)**2/2 + Derivative(u_theta(r, theta), r)**2/2 - 1/2"
      ]
     },
     "metadata": {},
     "output_type": "display_data"
    },
    {
     "data": {
      "text/latex": [
       "$\\displaystyle \\frac{- r^{2} + \\left(u_{r}{\\left(r,\\theta \\right)} + \\frac{\\partial}{\\partial \\theta} u_{\\theta}{\\left(r,\\theta \\right)}\\right)^{2} + \\left(- u_{\\theta}{\\left(r,\\theta \\right)} + \\frac{\\partial}{\\partial \\theta} u_{r}{\\left(r,\\theta \\right)}\\right)^{2}}{2 r^{2}}$"
      ],
      "text/plain": [
       "(-r**2 + (u_r(r, theta) + Derivative(u_theta(r, theta), theta))**2 + (-u_theta(r, theta) + Derivative(u_r(r, theta), theta))**2)/(2*r**2)"
      ]
     },
     "metadata": {},
     "output_type": "display_data"
    },
    {
     "data": {
      "text/latex": [
       "$\\displaystyle \\frac{u_{r}{\\left(r,\\theta \\right)} \\frac{\\partial}{\\partial r} u_{\\theta}{\\left(r,\\theta \\right)} - u_{\\theta}{\\left(r,\\theta \\right)} \\frac{\\partial}{\\partial r} u_{r}{\\left(r,\\theta \\right)} + \\frac{\\partial}{\\partial r} u_{r}{\\left(r,\\theta \\right)} \\frac{\\partial}{\\partial \\theta} u_{r}{\\left(r,\\theta \\right)} + \\frac{\\partial}{\\partial r} u_{\\theta}{\\left(r,\\theta \\right)} \\frac{\\partial}{\\partial \\theta} u_{\\theta}{\\left(r,\\theta \\right)}}{2 r}$"
      ],
      "text/plain": [
       "(u_r(r, theta)*Derivative(u_theta(r, theta), r) - u_theta(r, theta)*Derivative(u_r(r, theta), r) + Derivative(u_r(r, theta), r)*Derivative(u_r(r, theta), theta) + Derivative(u_theta(r, theta), r)*Derivative(u_theta(r, theta), theta))/(2*r)"
      ]
     },
     "metadata": {},
     "output_type": "display_data"
    }
   ],
   "source": [
    "epsrr = eps_pol[0, 0].simplify()\n",
    "epstt = eps_pol[1, 1].simplify()\n",
    "epsrt = eps_pol[0, 1].simplify()\n",
    "\n",
    "display(epsrr, epstt, epsrt)"
   ]
  },
  {
   "cell_type": "code",
   "execution_count": null,
   "id": "3e64d2c5-0694-4c33-991d-0f56682463ec",
   "metadata": {},
   "outputs": [],
   "source": []
  },
  {
   "cell_type": "code",
   "execution_count": null,
   "id": "3bbe9cef-6c34-40de-b445-162463d95cfb",
   "metadata": {},
   "outputs": [],
   "source": []
  }
 ],
 "metadata": {
  "kernelspec": {
   "display_name": "Python [conda env:base] *",
   "language": "python",
   "name": "conda-base-py"
  },
  "language_info": {
   "codemirror_mode": {
    "name": "ipython",
    "version": 3
   },
   "file_extension": ".py",
   "mimetype": "text/x-python",
   "name": "python",
   "nbconvert_exporter": "python",
   "pygments_lexer": "ipython3",
   "version": "3.12.7"
  }
 },
 "nbformat": 4,
 "nbformat_minor": 5
}
