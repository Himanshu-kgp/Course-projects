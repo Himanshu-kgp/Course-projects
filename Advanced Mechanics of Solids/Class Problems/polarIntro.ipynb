{
 "cells": [
  {
   "cell_type": "code",
   "execution_count": 1,
   "id": "ee6a74c1-0208-4bff-9bd8-3e84a95cddc1",
   "metadata": {},
   "outputs": [],
   "source": [
    "import sympy as sym"
   ]
  },
  {
   "cell_type": "code",
   "execution_count": 2,
   "id": "fe8c8d67-f38f-42de-ab00-90fb0abb679b",
   "metadata": {},
   "outputs": [],
   "source": [
    "from polarUtilities import *"
   ]
  },
  {
   "cell_type": "code",
   "execution_count": 3,
   "id": "dd4d2cfa-4053-4670-a420-4f227edc823a",
   "metadata": {},
   "outputs": [],
   "source": [
    "phi = sym.Function('varphi')(r, theta)"
   ]
  },
  {
   "cell_type": "code",
   "execution_count": 4,
   "id": "64713346-686d-497c-8f0a-579a3c0e1cdb",
   "metadata": {},
   "outputs": [
    {
     "data": {
      "text/latex": [
       "$\\displaystyle \\sin^{2}{\\left(\\theta \\right)} \\frac{\\partial^{2}}{\\partial r^{2}} \\varphi{\\left(r,\\theta \\right)} + \\frac{\\sin{\\left(2 \\theta \\right)} \\frac{\\partial^{2}}{\\partial \\theta\\partial r} \\varphi{\\left(r,\\theta \\right)}}{r} + \\frac{\\cos^{2}{\\left(\\theta \\right)} \\frac{\\partial}{\\partial r} \\varphi{\\left(r,\\theta \\right)}}{r} - \\frac{\\sin{\\left(2 \\theta \\right)} \\frac{\\partial}{\\partial \\theta} \\varphi{\\left(r,\\theta \\right)}}{r^{2}} + \\frac{\\cos^{2}{\\left(\\theta \\right)} \\frac{\\partial^{2}}{\\partial \\theta^{2}} \\varphi{\\left(r,\\theta \\right)}}{r^{2}}$"
      ],
      "text/plain": [
       "sin(theta)**2*Derivative(varphi(r, theta), (r, 2)) + sin(2*theta)*Derivative(varphi(r, theta), r, theta)/r + cos(theta)**2*Derivative(varphi(r, theta), r)/r - sin(2*theta)*Derivative(varphi(r, theta), theta)/r**2 + cos(theta)**2*Derivative(varphi(r, theta), (theta, 2))/r**2"
      ]
     },
     "metadata": {},
     "output_type": "display_data"
    }
   ],
   "source": [
    "Sigma_xx = sigma_xx(phi)\n",
    "display(Sigma_xx)"
   ]
  },
  {
   "cell_type": "code",
   "execution_count": 5,
   "id": "d4b0ec8a-8dce-4d63-9182-41b268d0ab2d",
   "metadata": {},
   "outputs": [
    {
     "data": {
      "text/latex": [
       "$\\displaystyle \\cos^{2}{\\left(\\theta \\right)} \\frac{\\partial^{2}}{\\partial r^{2}} \\varphi{\\left(r,\\theta \\right)} + \\frac{\\sin^{2}{\\left(\\theta \\right)} \\frac{\\partial}{\\partial r} \\varphi{\\left(r,\\theta \\right)}}{r} - \\frac{\\sin{\\left(2 \\theta \\right)} \\frac{\\partial^{2}}{\\partial \\theta\\partial r} \\varphi{\\left(r,\\theta \\right)}}{r} + \\frac{\\sin^{2}{\\left(\\theta \\right)} \\frac{\\partial^{2}}{\\partial \\theta^{2}} \\varphi{\\left(r,\\theta \\right)}}{r^{2}} + \\frac{\\sin{\\left(2 \\theta \\right)} \\frac{\\partial}{\\partial \\theta} \\varphi{\\left(r,\\theta \\right)}}{r^{2}}$"
      ],
      "text/plain": [
       "cos(theta)**2*Derivative(varphi(r, theta), (r, 2)) + sin(theta)**2*Derivative(varphi(r, theta), r)/r - sin(2*theta)*Derivative(varphi(r, theta), r, theta)/r + sin(theta)**2*Derivative(varphi(r, theta), (theta, 2))/r**2 + sin(2*theta)*Derivative(varphi(r, theta), theta)/r**2"
      ]
     },
     "metadata": {},
     "output_type": "display_data"
    }
   ],
   "source": [
    "Sigma_yy = sigma_yy(phi)\n",
    "display(Sigma_yy)"
   ]
  },
  {
   "cell_type": "code",
   "execution_count": 6,
   "id": "82418914-ac39-4422-bcc3-3b7aa940ba09",
   "metadata": {},
   "outputs": [
    {
     "data": {
      "text/latex": [
       "$\\displaystyle - \\frac{\\sin{\\left(2 \\theta \\right)} \\frac{\\partial^{2}}{\\partial r^{2}} \\varphi{\\left(r,\\theta \\right)}}{2} + \\frac{\\sin{\\left(2 \\theta \\right)} \\frac{\\partial}{\\partial r} \\varphi{\\left(r,\\theta \\right)}}{2 r} - \\frac{\\cos{\\left(2 \\theta \\right)} \\frac{\\partial^{2}}{\\partial \\theta\\partial r} \\varphi{\\left(r,\\theta \\right)}}{r} + \\frac{\\sin{\\left(2 \\theta \\right)} \\frac{\\partial^{2}}{\\partial \\theta^{2}} \\varphi{\\left(r,\\theta \\right)}}{2 r^{2}} + \\frac{\\cos{\\left(2 \\theta \\right)} \\frac{\\partial}{\\partial \\theta} \\varphi{\\left(r,\\theta \\right)}}{r^{2}}$"
      ],
      "text/plain": [
       "-sin(2*theta)*Derivative(varphi(r, theta), (r, 2))/2 + sin(2*theta)*Derivative(varphi(r, theta), r)/(2*r) - cos(2*theta)*Derivative(varphi(r, theta), r, theta)/r + sin(2*theta)*Derivative(varphi(r, theta), (theta, 2))/(2*r**2) + cos(2*theta)*Derivative(varphi(r, theta), theta)/r**2"
      ]
     },
     "metadata": {},
     "output_type": "display_data"
    }
   ],
   "source": [
    "Sigma_xy = sigma_xy(phi)\n",
    "display(Sigma_xy)"
   ]
  },
  {
   "cell_type": "code",
   "execution_count": 7,
   "id": "4470f423-b519-4952-a1dc-3b3e0490deb0",
   "metadata": {},
   "outputs": [
    {
     "data": {
      "text/latex": [
       "$\\displaystyle \\frac{\\frac{\\partial}{\\partial r} \\varphi{\\left(r,\\theta \\right)}}{r} + \\frac{\\frac{\\partial^{2}}{\\partial \\theta^{2}} \\varphi{\\left(r,\\theta \\right)}}{r^{2}}$"
      ],
      "text/plain": [
       "Derivative(varphi(r, theta), r)/r + Derivative(varphi(r, theta), (theta, 2))/r**2"
      ]
     },
     "metadata": {},
     "output_type": "display_data"
    }
   ],
   "source": [
    "Sigma_rr = sigma_rr(phi)\n",
    "display(Sigma_rr)"
   ]
  },
  {
   "cell_type": "code",
   "execution_count": 8,
   "id": "ec526e40-2207-4325-9d04-8e921def77f5",
   "metadata": {},
   "outputs": [
    {
     "data": {
      "text/latex": [
       "$\\displaystyle \\frac{\\partial^{2}}{\\partial r^{2}} \\varphi{\\left(r,\\theta \\right)}$"
      ],
      "text/plain": [
       "Derivative(varphi(r, theta), (r, 2))"
      ]
     },
     "metadata": {},
     "output_type": "display_data"
    }
   ],
   "source": [
    "Sigma_tt = sigma_tt(phi)\n",
    "display(Sigma_tt)"
   ]
  },
  {
   "cell_type": "code",
   "execution_count": 9,
   "id": "47ff55b2-4e9b-4855-b8f8-8db0e29cae37",
   "metadata": {},
   "outputs": [
    {
     "data": {
      "text/latex": [
       "$\\displaystyle - \\frac{\\frac{\\partial^{2}}{\\partial \\theta\\partial r} \\varphi{\\left(r,\\theta \\right)}}{r} + \\frac{\\frac{\\partial}{\\partial \\theta} \\varphi{\\left(r,\\theta \\right)}}{r^{2}}$"
      ],
      "text/plain": [
       "-Derivative(varphi(r, theta), r, theta)/r + Derivative(varphi(r, theta), theta)/r**2"
      ]
     },
     "metadata": {},
     "output_type": "display_data"
    }
   ],
   "source": [
    "Sigma_rt = sigma_rt(phi)\n",
    "display(Sigma_rt)"
   ]
  },
  {
   "cell_type": "code",
   "execution_count": 10,
   "id": "092cd431-aee4-4965-bb32-f9aab46727a0",
   "metadata": {},
   "outputs": [
    {
     "data": {
      "text/latex": [
       "$\\displaystyle \\frac{r^{4} \\frac{\\partial^{4}}{\\partial r^{4}} \\varphi{\\left(r,\\theta \\right)} + 2 r^{3} \\frac{\\partial^{3}}{\\partial r^{3}} \\varphi{\\left(r,\\theta \\right)} - r^{2} \\frac{\\partial^{2}}{\\partial r^{2}} \\varphi{\\left(r,\\theta \\right)} + 2 r^{2} \\frac{\\partial^{4}}{\\partial \\theta^{2}\\partial r^{2}} \\varphi{\\left(r,\\theta \\right)} + r \\frac{\\partial}{\\partial r} \\varphi{\\left(r,\\theta \\right)} - 2 r \\frac{\\partial^{3}}{\\partial \\theta^{2}\\partial r} \\varphi{\\left(r,\\theta \\right)} + 4 \\frac{\\partial^{2}}{\\partial \\theta^{2}} \\varphi{\\left(r,\\theta \\right)} + \\frac{\\partial^{4}}{\\partial \\theta^{4}} \\varphi{\\left(r,\\theta \\right)}}{r^{4}}$"
      ],
      "text/plain": [
       "(r**4*Derivative(varphi(r, theta), (r, 4)) + 2*r**3*Derivative(varphi(r, theta), (r, 3)) - r**2*Derivative(varphi(r, theta), (r, 2)) + 2*r**2*Derivative(varphi(r, theta), (r, 2), (theta, 2)) + r*Derivative(varphi(r, theta), r) - 2*r*Derivative(varphi(r, theta), r, (theta, 2)) + 4*Derivative(varphi(r, theta), (theta, 2)) + Derivative(varphi(r, theta), (theta, 4)))/r**4"
      ]
     },
     "execution_count": 10,
     "metadata": {},
     "output_type": "execute_result"
    }
   ],
   "source": [
    "polarBiharmonic(phi)"
   ]
  }
 ],
 "metadata": {
  "kernelspec": {
   "display_name": "Python [conda env:base] *",
   "language": "python",
   "name": "conda-base-py"
  },
  "language_info": {
   "codemirror_mode": {
    "name": "ipython",
    "version": 3
   },
   "file_extension": ".py",
   "mimetype": "text/x-python",
   "name": "python",
   "nbconvert_exporter": "python",
   "pygments_lexer": "ipython3",
   "version": "3.12.7"
  }
 },
 "nbformat": 4,
 "nbformat_minor": 5
}
