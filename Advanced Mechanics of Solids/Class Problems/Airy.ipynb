{
 "cells": [
  {
   "cell_type": "code",
   "execution_count": 1,
   "id": "8161921d-36fc-4c7e-9a84-0917c34cc276",
   "metadata": {},
   "outputs": [],
   "source": [
    "import sympy as sym"
   ]
  },
  {
   "cell_type": "code",
   "execution_count": 2,
   "id": "e86081c0-80c5-4f2d-9ead-e22488cc429b",
   "metadata": {},
   "outputs": [],
   "source": [
    "x, y = sym.symbols('x, y')"
   ]
  },
  {
   "cell_type": "code",
   "execution_count": 3,
   "id": "3d4853bc-acf0-4588-b3cb-f09f3e50211a",
   "metadata": {},
   "outputs": [
    {
     "data": {
      "text/latex": [
       "$\\displaystyle x$"
      ],
      "text/plain": [
       "x"
      ]
     },
     "execution_count": 3,
     "metadata": {},
     "output_type": "execute_result"
    }
   ],
   "source": [
    "x"
   ]
  },
  {
   "cell_type": "code",
   "execution_count": 4,
   "id": "1b368b73-6867-42a0-b7c6-28ab05d1247d",
   "metadata": {},
   "outputs": [
    {
     "data": {
      "text/latex": [
       "$\\displaystyle y$"
      ],
      "text/plain": [
       "y"
      ]
     },
     "execution_count": 4,
     "metadata": {},
     "output_type": "execute_result"
    }
   ],
   "source": [
    "y"
   ]
  },
  {
   "cell_type": "code",
   "execution_count": 5,
   "id": "cf0f7c83-6321-482e-9a61-f5d19fc4ec93",
   "metadata": {},
   "outputs": [
    {
     "data": {
      "text/latex": [
       "$\\displaystyle \\varphi{\\left(x,y \\right)}$"
      ],
      "text/plain": [
       "varphi(x, y)"
      ]
     },
     "execution_count": 5,
     "metadata": {},
     "output_type": "execute_result"
    }
   ],
   "source": [
    "phi = sym.Function('varphi')(x, y)\n",
    "phi"
   ]
  },
  {
   "cell_type": "code",
   "execution_count": 6,
   "id": "4c71c6ef-76c5-435c-a185-f886c58c9aa7",
   "metadata": {},
   "outputs": [],
   "source": [
    "def Laplacian(f):\n",
    "    return sym.diff(f, (x, 2)) + sym.diff(f, (y, 2))"
   ]
  },
  {
   "cell_type": "code",
   "execution_count": 7,
   "id": "8dadb912-c83f-4741-8f8b-1d0203d203f3",
   "metadata": {},
   "outputs": [
    {
     "data": {
      "text/latex": [
       "$\\displaystyle \\frac{\\partial^{2}}{\\partial x^{2}} \\varphi{\\left(x,y \\right)} + \\frac{\\partial^{2}}{\\partial y^{2}} \\varphi{\\left(x,y \\right)}$"
      ],
      "text/plain": [
       "Derivative(varphi(x, y), (x, 2)) + Derivative(varphi(x, y), (y, 2))"
      ]
     },
     "execution_count": 7,
     "metadata": {},
     "output_type": "execute_result"
    }
   ],
   "source": [
    "Laplacian(phi)"
   ]
  },
  {
   "cell_type": "code",
   "execution_count": 8,
   "id": "63230574-5961-4f79-a5dd-8b3b51baddb0",
   "metadata": {},
   "outputs": [],
   "source": [
    "def biharmonic(f):\n",
    "    return Laplacian(Laplacian(f))"
   ]
  },
  {
   "cell_type": "code",
   "execution_count": 9,
   "id": "3c66f2ff-fd3f-4607-9285-0e8b5e8762a4",
   "metadata": {},
   "outputs": [
    {
     "data": {
      "text/latex": [
       "$\\displaystyle \\frac{\\partial^{4}}{\\partial x^{4}} \\varphi{\\left(x,y \\right)} + \\frac{\\partial^{4}}{\\partial y^{4}} \\varphi{\\left(x,y \\right)} + 2 \\frac{\\partial^{4}}{\\partial y^{2}\\partial x^{2}} \\varphi{\\left(x,y \\right)}$"
      ],
      "text/plain": [
       "Derivative(varphi(x, y), (x, 4)) + Derivative(varphi(x, y), (y, 4)) + 2*Derivative(varphi(x, y), (x, 2), (y, 2))"
      ]
     },
     "execution_count": 9,
     "metadata": {},
     "output_type": "execute_result"
    }
   ],
   "source": [
    "biharmonic(phi)"
   ]
  },
  {
   "cell_type": "code",
   "execution_count": 10,
   "id": "d4f1d9b5-b1b8-4bfa-8e9c-410a9a7c7fc9",
   "metadata": {},
   "outputs": [],
   "source": [
    "A20, A11, A02 = sym.symbols('A_20, A_11, A_02')"
   ]
  },
  {
   "cell_type": "code",
   "execution_count": 11,
   "id": "1c5d8fe3-b88d-4602-b9ef-356177051de6",
   "metadata": {},
   "outputs": [
    {
     "data": {
      "text/latex": [
       "$\\displaystyle A_{02} y^{2} + A_{11} x y + A_{20} x^{2}$"
      ],
      "text/plain": [
       "A_02*y**2 + A_11*x*y + A_20*x**2"
      ]
     },
     "metadata": {},
     "output_type": "display_data"
    }
   ],
   "source": [
    "airy2 = A20*x**2 + A11*x*y + A02*y**2\n",
    "display(airy2)"
   ]
  },
  {
   "cell_type": "code",
   "execution_count": 12,
   "id": "c04a3460-5d2c-4801-98d3-e90334db4f56",
   "metadata": {},
   "outputs": [
    {
     "data": {
      "text/latex": [
       "$\\displaystyle 0$"
      ],
      "text/plain": [
       "0"
      ]
     },
     "execution_count": 12,
     "metadata": {},
     "output_type": "execute_result"
    }
   ],
   "source": [
    "biharmonic(airy2)"
   ]
  },
  {
   "cell_type": "code",
   "execution_count": 13,
   "id": "2359c40b-8b75-40d1-bb04-2493338ff91d",
   "metadata": {},
   "outputs": [],
   "source": [
    "A30, A21, A12, A03 = sym.symbols('A_30, A_21, A_12, A_03')"
   ]
  },
  {
   "cell_type": "code",
   "execution_count": 14,
   "id": "62899c38-2bfd-46ef-914d-f2bbc3df41b6",
   "metadata": {},
   "outputs": [
    {
     "data": {
      "text/latex": [
       "$\\displaystyle 0$"
      ],
      "text/plain": [
       "0"
      ]
     },
     "execution_count": 14,
     "metadata": {},
     "output_type": "execute_result"
    }
   ],
   "source": [
    "airy3 = A30*x**3 + A21*x**2*y + A12*x*y**2 + A03*y**3\n",
    "\n",
    "biharmonic(airy3)"
   ]
  },
  {
   "cell_type": "code",
   "execution_count": 15,
   "id": "6b9f57b7-2f17-4612-bec5-7a400bed8009",
   "metadata": {},
   "outputs": [],
   "source": [
    "A40, A31, A22, A13, A04 = sym.symbols('A_40, A_31, A_22, A_13, A_04')"
   ]
  },
  {
   "cell_type": "code",
   "execution_count": 16,
   "id": "d4dc896e-eba8-4a49-b778-1344c583c4b3",
   "metadata": {},
   "outputs": [],
   "source": [
    "airy4 = A40*x**4 + A31*x**3*y + A22*x**2*y**2 + A13*x*y**3 + A04*y**4"
   ]
  },
  {
   "cell_type": "code",
   "execution_count": 17,
   "id": "8400eb52-cbd8-4fa2-851e-8696294e5620",
   "metadata": {},
   "outputs": [
    {
     "data": {
      "text/latex": [
       "$\\displaystyle 24 A_{04} + 8 A_{22} + 24 A_{40}$"
      ],
      "text/plain": [
       "24*A_04 + 8*A_22 + 24*A_40"
      ]
     },
     "execution_count": 17,
     "metadata": {},
     "output_type": "execute_result"
    }
   ],
   "source": [
    "biharmonic(airy4).expand()"
   ]
  },
  {
   "cell_type": "code",
   "execution_count": 18,
   "id": "be438b27-fa1b-4c7f-88b5-ed2ca7f8c37a",
   "metadata": {},
   "outputs": [],
   "source": [
    "A50, A41, A32, A23, A14, A05 = sym.symbols('A_50, A_41, A_32, A_23, A_14, A_05')"
   ]
  },
  {
   "cell_type": "code",
   "execution_count": 19,
   "id": "f161e5eb-a4a2-4970-bc85-64c36df32078",
   "metadata": {},
   "outputs": [
    {
     "data": {
      "text/latex": [
       "$\\displaystyle A_{05} y^{5} + A_{14} x y^{4} + A_{23} x^{2} y^{3} + A_{32} x^{3} y^{2} + A_{41} x^{4} y + A_{50} x^{5}$"
      ],
      "text/plain": [
       "A_05*y**5 + A_14*x*y**4 + A_23*x**2*y**3 + A_32*x**3*y**2 + A_41*x**4*y + A_50*x**5"
      ]
     },
     "metadata": {},
     "output_type": "display_data"
    }
   ],
   "source": [
    "airy5 = A50*x**5 + A41*x**4*y + A32*x**3*y**2 + A23*x**2*y**3 + A14*x*y**4 + A05*y**5\n",
    "display(airy5)"
   ]
  },
  {
   "cell_type": "code",
   "execution_count": 20,
   "id": "16d835de-0782-40d5-bab2-0149becc1db0",
   "metadata": {},
   "outputs": [],
   "source": [
    "biharm5 = biharmonic(airy5).expand()"
   ]
  },
  {
   "cell_type": "markdown",
   "id": "05c347cf-9a1c-4216-ac96-4d3773204d0a",
   "metadata": {},
   "source": [
    "for biharm5 to be equal to zero, the coefficients of $x$ and $y$ must be zero"
   ]
  },
  {
   "cell_type": "code",
   "execution_count": 22,
   "id": "fabfa570-28ad-4722-b6c1-6a4d86eb57f2",
   "metadata": {},
   "outputs": [],
   "source": [
    "biharm_x = biharm5.coeff(x)\n",
    "biharm_y = biharm5.coeff(y)"
   ]
  },
  {
   "cell_type": "code",
   "execution_count": 52,
   "id": "30631faa-db7b-4cd3-b172-ddd2e73eb8e8",
   "metadata": {},
   "outputs": [],
   "source": [
    "A60, A51, A42, A33, A24, A15, A06 = sym.symbols('A_60, A_51, A_42, A_33, A_24, A_15, A_06')"
   ]
  },
  {
   "cell_type": "code",
   "execution_count": 74,
   "id": "a0390275-4960-47fc-bde6-18f13e8bbad1",
   "metadata": {},
   "outputs": [],
   "source": [
    "airy6 = A60*x**6 + A51*x**5*y + A42*x**4*y**2 + A33*x**3*y**3 + A24*x**2*y**4 + A51*x*y**5 + A06*y**6"
   ]
  },
  {
   "cell_type": "code",
   "execution_count": 88,
   "id": "23dc7f30-db72-4325-afd6-865666532f96",
   "metadata": {},
   "outputs": [
    {
     "data": {
      "text/latex": [
       "$\\displaystyle 360 A_{06} y^{2} + 24 A_{24} x^{2} + 48 A_{24} y^{2} + 72 A_{33} x y + 48 A_{42} x^{2} + 24 A_{42} y^{2} + 240 A_{51} x y + 360 A_{60} x^{2}$"
      ],
      "text/plain": [
       "360*A_06*y**2 + 24*A_24*x**2 + 48*A_24*y**2 + 72*A_33*x*y + 48*A_42*x**2 + 24*A_42*y**2 + 240*A_51*x*y + 360*A_60*x**2"
      ]
     },
     "execution_count": 88,
     "metadata": {},
     "output_type": "execute_result"
    }
   ],
   "source": [
    "biharm6 = biharmonic(airy6).expand()\n",
    "biharm6"
   ]
  },
  {
   "cell_type": "code",
   "execution_count": 96,
   "id": "e56ebf87-3286-41a9-aea8-09eb688a8551",
   "metadata": {},
   "outputs": [],
   "source": [
    "biharm_x2 = biharm6.coeff(x**2)\n",
    "biharm_y2 = biharm6.coeff(y**2)\n",
    "biharm_xy = biharm6.coeff(x*y)\n"
   ]
  },
  {
   "cell_type": "code",
   "execution_count": 98,
   "id": "248b80b6-c41c-43c8-abf5-b257479bbb45",
   "metadata": {},
   "outputs": [
    {
     "data": {
      "text/latex": [
       "$\\displaystyle 72 A_{33} + 240 A_{51}$"
      ],
      "text/plain": [
       "72*A_33 + 240*A_51"
      ]
     },
     "execution_count": 98,
     "metadata": {},
     "output_type": "execute_result"
    }
   ],
   "source": []
  },
  {
   "cell_type": "code",
   "execution_count": null,
   "id": "0a08be16-e1f4-444e-aa48-3ceab6474b41",
   "metadata": {},
   "outputs": [],
   "source": []
  }
 ],
 "metadata": {
  "kernelspec": {
   "display_name": "Python [conda env:base] *",
   "language": "python",
   "name": "conda-base-py"
  },
  "language_info": {
   "codemirror_mode": {
    "name": "ipython",
    "version": 3
   },
   "file_extension": ".py",
   "mimetype": "text/x-python",
   "name": "python",
   "nbconvert_exporter": "python",
   "pygments_lexer": "ipython3",
   "version": "3.12.7"
  }
 },
 "nbformat": 4,
 "nbformat_minor": 5
}
