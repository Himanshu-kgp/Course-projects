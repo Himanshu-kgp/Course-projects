{
 "cells": [
  {
   "cell_type": "code",
   "execution_count": 3,
   "id": "1b763739-a4ec-4d69-a2da-527506a67688",
   "metadata": {},
   "outputs": [],
   "source": [
    "from polarUtilities import *"
   ]
  },
  {
   "cell_type": "code",
   "execution_count": 5,
   "id": "0944e77d-c69a-4c8b-b340-59036e50aa91",
   "metadata": {},
   "outputs": [],
   "source": [
    "A = sym.symbols('A')\n",
    "phi = A*theta"
   ]
  },
  {
   "cell_type": "code",
   "execution_count": 7,
   "id": "80232245-cccc-4ad1-981f-43e56c5ff9df",
   "metadata": {},
   "outputs": [
    {
     "data": {
      "text/latex": [
       "$\\displaystyle 0$"
      ],
      "text/plain": [
       "0"
      ]
     },
     "execution_count": 7,
     "metadata": {},
     "output_type": "execute_result"
    }
   ],
   "source": [
    "biharm = polarBiharmonic(phi)\n",
    "biharm"
   ]
  },
  {
   "cell_type": "code",
   "execution_count": 9,
   "id": "a9676ab0-8a14-4467-adef-fae0dce968af",
   "metadata": {},
   "outputs": [
    {
     "data": {
      "text/latex": [
       "$\\displaystyle 0$"
      ],
      "text/plain": [
       "0"
      ]
     },
     "metadata": {},
     "output_type": "display_data"
    },
    {
     "data": {
      "text/latex": [
       "$\\displaystyle 0$"
      ],
      "text/plain": [
       "0"
      ]
     },
     "metadata": {},
     "output_type": "display_data"
    },
    {
     "data": {
      "text/latex": [
       "$\\displaystyle \\frac{A}{r^{2}}$"
      ],
      "text/plain": [
       "A/r**2"
      ]
     },
     "metadata": {},
     "output_type": "display_data"
    }
   ],
   "source": [
    "sigmarr = sigma_rr(phi)\n",
    "sigmatt = sigma_tt(phi)\n",
    "sigmart = sigma_rt(phi)\n",
    "display(sigmarr, sigmatt, sigmart)"
   ]
  },
  {
   "cell_type": "code",
   "execution_count": 13,
   "id": "22698893-cd64-4c40-ad4e-40d762b28c19",
   "metadata": {},
   "outputs": [],
   "source": [
    "a, b, tau = sym.symbols('a, b, tau')"
   ]
  },
  {
   "cell_type": "code",
   "execution_count": 17,
   "id": "4f0dd7bf-0c38-41da-997a-1fb5b853c56a",
   "metadata": {},
   "outputs": [],
   "source": [
    "bc1 = sym.Eq(sigmart.subs(r, b), tau)\n",
    "bc2 = sym.Eq(sigmarr.subs(r, b), 0)"
   ]
  },
  {
   "cell_type": "code",
   "execution_count": 19,
   "id": "91deca82-6b4e-4a73-a204-78b928c16caf",
   "metadata": {},
   "outputs": [],
   "source": [
    "soln = sym.solve([bc1, bc2], [A])"
   ]
  },
  {
   "cell_type": "code",
   "execution_count": 25,
   "id": "e30bc9d9-edd1-4c1e-8c08-4a1f9cae6e96",
   "metadata": {},
   "outputs": [
    {
     "data": {
      "text/latex": [
       "$\\displaystyle 0$"
      ],
      "text/plain": [
       "0"
      ]
     },
     "metadata": {},
     "output_type": "display_data"
    },
    {
     "data": {
      "text/latex": [
       "$\\displaystyle 0$"
      ],
      "text/plain": [
       "0"
      ]
     },
     "metadata": {},
     "output_type": "display_data"
    },
    {
     "data": {
      "text/latex": [
       "$\\displaystyle \\frac{b^{2} \\tau}{r^{2}}$"
      ],
      "text/plain": [
       "b**2*tau/r**2"
      ]
     },
     "metadata": {},
     "output_type": "display_data"
    }
   ],
   "source": [
    "sigmarr = sigmarr.subs(soln)\n",
    "sigmatt = sigmatt.subs(soln)\n",
    "sigmart = sigmart.subs(soln)\n",
    "display(sigmarr, sigmatt, sigmart)"
   ]
  },
  {
   "cell_type": "code",
   "execution_count": 33,
   "id": "cf645015-f361-4bc1-8e33-b545d17dd8b8",
   "metadata": {},
   "outputs": [],
   "source": [
    "E, nu, G = sym.symbols('E, nu, G')"
   ]
  },
  {
   "cell_type": "code",
   "execution_count": 35,
   "id": "c209bbb5-6d2e-4fbc-b49b-64474bab9402",
   "metadata": {},
   "outputs": [],
   "source": [
    "sigmazz = nu*(sigmarr+sigmatt)"
   ]
  },
  {
   "cell_type": "code",
   "execution_count": 37,
   "id": "a98d7bde-3f86-4ea4-bd7d-3f969f76e683",
   "metadata": {},
   "outputs": [],
   "source": [
    "epsrr = 1/E*(sigmarr - nu*(sigmatt + sigmazz))\n",
    "epstt = 1/E*(sigmatt - nu*(sigmarr + sigmazz))\n",
    "epszz = 1/E*(sigmazz - nu*(sigmatt + sigmarr))\n",
    "epsrt = 1/(2*G)*sigmart"
   ]
  },
  {
   "cell_type": "code",
   "execution_count": 39,
   "id": "9d4e15e9-9dc6-4478-8d31-cb891efb9467",
   "metadata": {},
   "outputs": [],
   "source": [
    "ut = sym.Function('u_theta')(r)"
   ]
  },
  {
   "cell_type": "code",
   "execution_count": 43,
   "id": "cde0f4bf-9ede-4cce-b8bc-9b2d319b5487",
   "metadata": {},
   "outputs": [
    {
     "data": {
      "text/latex": [
       "$\\displaystyle \\frac{b^{2} \\tau}{2 G r^{2}} = \\frac{\\frac{d}{d r} u_{\\theta}{\\left(r \\right)}}{2} - \\frac{u_{\\theta}{\\left(r \\right)}}{2 r}$"
      ],
      "text/plain": [
       "Eq(b**2*tau/(2*G*r**2), Derivative(u_theta(r), r)/2 - u_theta(r)/(2*r))"
      ]
     },
     "execution_count": 43,
     "metadata": {},
     "output_type": "execute_result"
    }
   ],
   "source": [
    "eq = sym.Eq(epsrt, sym.Rational(1, 2)*(sym.diff(ut, r) - ut/r))\n",
    "eq"
   ]
  },
  {
   "cell_type": "code",
   "execution_count": 53,
   "id": "e006d1dc-1ea5-40e6-8f83-ebfad82587d1",
   "metadata": {},
   "outputs": [
    {
     "data": {
      "text/latex": [
       "$\\displaystyle C_{1} r - \\frac{b^{2} \\tau}{2 G r}$"
      ],
      "text/plain": [
       "C1*r - b**2*tau/(2*G*r)"
      ]
     },
     "execution_count": 53,
     "metadata": {},
     "output_type": "execute_result"
    }
   ],
   "source": [
    "soln = sym.dsolve(eq).rhs\n",
    "soln"
   ]
  },
  {
   "cell_type": "code",
   "execution_count": 55,
   "id": "80bd4173-b37e-42ae-a407-87fc7876da4b",
   "metadata": {},
   "outputs": [],
   "source": [
    "ut = soln"
   ]
  },
  {
   "cell_type": "code",
   "execution_count": 59,
   "id": "6ab1388a-e500-4245-93f4-79d4ff4c7a1c",
   "metadata": {},
   "outputs": [
    {
     "data": {
      "text/latex": [
       "$\\displaystyle C_{1} a - \\frac{b^{2} \\tau}{2 G a} = 0$"
      ],
      "text/plain": [
       "Eq(C1*a - b**2*tau/(2*G*a), 0)"
      ]
     },
     "execution_count": 59,
     "metadata": {},
     "output_type": "execute_result"
    }
   ],
   "source": [
    "bc3 = sym.Eq(ut.subs(r, a), 0)\n",
    "bc3"
   ]
  },
  {
   "cell_type": "code",
   "execution_count": 61,
   "id": "ae76b836-ea5f-4e3f-8028-e14e6efdbfd1",
   "metadata": {},
   "outputs": [],
   "source": [
    "C1 = sym.symbols('C1')"
   ]
  },
  {
   "cell_type": "code",
   "execution_count": 65,
   "id": "4a904138-0f5a-4cba-b766-1552e6fda4fd",
   "metadata": {},
   "outputs": [
    {
     "data": {
      "text/plain": [
       "[b**2*tau/(2*G*a**2)]"
      ]
     },
     "execution_count": 65,
     "metadata": {},
     "output_type": "execute_result"
    }
   ],
   "source": [
    "soln = sym.solve(bc3, C1)\n",
    "soln"
   ]
  },
  {
   "cell_type": "code",
   "execution_count": null,
   "id": "83e88e54-d8ec-44f9-a017-e4bc24541e3a",
   "metadata": {},
   "outputs": [],
   "source": []
  }
 ],
 "metadata": {
  "kernelspec": {
   "display_name": "Python [conda env:base] *",
   "language": "python",
   "name": "conda-base-py"
  },
  "language_info": {
   "codemirror_mode": {
    "name": "ipython",
    "version": 3
   },
   "file_extension": ".py",
   "mimetype": "text/x-python",
   "name": "python",
   "nbconvert_exporter": "python",
   "pygments_lexer": "ipython3",
   "version": "3.12.7"
  }
 },
 "nbformat": 4,
 "nbformat_minor": 5
}
