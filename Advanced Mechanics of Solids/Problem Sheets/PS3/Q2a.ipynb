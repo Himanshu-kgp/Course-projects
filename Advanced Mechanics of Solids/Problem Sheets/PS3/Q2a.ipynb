{
 "cells": [
  {
   "cell_type": "code",
   "execution_count": 1,
   "id": "c5982ffa-6411-4e7d-9759-cc597443a560",
   "metadata": {},
   "outputs": [],
   "source": [
    "import sympy as sym"
   ]
  },
  {
   "cell_type": "markdown",
   "id": "0cf55a5c-5f9c-4372-9e92-210d06ad2981",
   "metadata": {},
   "source": [
    "## Strain-Displacement Relations"
   ]
  },
  {
   "cell_type": "code",
   "execution_count": 2,
   "id": "29be64cd-34ac-456f-b077-d074eb9dc434",
   "metadata": {},
   "outputs": [],
   "source": [
    "r, theta, z = sym.symbols('r, theta, z')"
   ]
  },
  {
   "cell_type": "code",
   "execution_count": 3,
   "id": "43a91774-94c4-4c05-9d40-fe68842bf0e7",
   "metadata": {},
   "outputs": [],
   "source": [
    "delr_delx = sym.cos(theta)\n",
    "delr_dely = sym.sin(theta)\n",
    "delr_delz = 0\n",
    "\n",
    "delt_delx = -sym.sin(theta)/r\n",
    "delt_dely = sym.cos(theta)/r\n",
    "delt_delz = 0\n",
    "\n",
    "delz_delx = 0\n",
    "delz_dely = 0\n",
    "delz_delz = 1"
   ]
  },
  {
   "cell_type": "code",
   "execution_count": 4,
   "id": "e9dd908c-fa98-40a9-9cde-2d7f76afd572",
   "metadata": {},
   "outputs": [],
   "source": [
    "def del_delx(f): # f is a function of r, theta, z\n",
    "    return sym.diff(f, r)*delr_delx + sym.diff(f, theta)*delt_delx + sym.diff(f, z)*delz_delx\n",
    "def del_dely(f): # f is a function of r, theta, z\n",
    "    return sym.diff(f, r)*delr_dely + sym.diff(f, theta)*delt_dely + sym.diff(f, z)*delz_dely\n",
    "def del_delz(f): # f is a function of r, theta, z\n",
    "    return sym.diff(f, r)*delr_delz + sym.diff(f, theta)*delt_delz + sym.diff(f, z)*delz_delz"
   ]
  },
  {
   "cell_type": "code",
   "execution_count": 5,
   "id": "7b54d317-8c95-4ab3-b362-4f0eb0a5a84c",
   "metadata": {},
   "outputs": [
    {
     "data": {
      "text/latex": [
       "$\\displaystyle \\left[\\begin{matrix}u_{r}{\\left(r,\\theta,z \\right)}\\\\u_{t}{\\left(r,\\theta,z \\right)}\\\\u_{z}{\\left(r,\\theta,z \\right)}\\end{matrix}\\right]$"
      ],
      "text/plain": [
       "Matrix([\n",
       "[u_r(r, theta, z)],\n",
       "[u_t(r, theta, z)],\n",
       "[u_z(r, theta, z)]])"
      ]
     },
     "execution_count": 5,
     "metadata": {},
     "output_type": "execute_result"
    }
   ],
   "source": [
    "u_r = sym.Function('u_r')(r, theta, z)\n",
    "u_t = sym.Function('u_t')(r, theta, z)\n",
    "u_z = sym.Function('u_z')(r, theta, z)\n",
    "\n",
    "u_Pol = sym.Matrix([u_r, u_t, u_z])\n",
    "u_Pol"
   ]
  },
  {
   "cell_type": "code",
   "execution_count": 6,
   "id": "2c5f7d93-0850-4c8c-b401-558f50ce8bca",
   "metadata": {},
   "outputs": [
    {
     "data": {
      "text/latex": [
       "$\\displaystyle \\left[\\begin{matrix}\\cos{\\left(\\theta \\right)} & \\sin{\\left(\\theta \\right)} & 0\\\\- \\sin{\\left(\\theta \\right)} & \\cos{\\left(\\theta \\right)} & 0\\\\0 & 0 & 1\\end{matrix}\\right]$"
      ],
      "text/plain": [
       "Matrix([\n",
       "[ cos(theta), sin(theta), 0],\n",
       "[-sin(theta), cos(theta), 0],\n",
       "[          0,          0, 1]])"
      ]
     },
     "execution_count": 6,
     "metadata": {},
     "output_type": "execute_result"
    }
   ],
   "source": [
    "Q = sym.Matrix([[sym.cos(theta), sym.sin(theta), 0], [-sym.sin(theta), sym.cos(theta), 0], [0, 0, 1]])\n",
    "Q"
   ]
  },
  {
   "cell_type": "code",
   "execution_count": 7,
   "id": "a293f8a2-32d3-4c94-b75b-9c9feb5bd5af",
   "metadata": {},
   "outputs": [
    {
     "data": {
      "text/latex": [
       "$\\displaystyle u_{r}{\\left(r,\\theta,z \\right)} \\cos{\\left(\\theta \\right)} - u_{t}{\\left(r,\\theta,z \\right)} \\sin{\\left(\\theta \\right)}$"
      ],
      "text/plain": [
       "u_r(r, theta, z)*cos(theta) - u_t(r, theta, z)*sin(theta)"
      ]
     },
     "metadata": {},
     "output_type": "display_data"
    },
    {
     "data": {
      "text/latex": [
       "$\\displaystyle u_{r}{\\left(r,\\theta,z \\right)} \\sin{\\left(\\theta \\right)} + u_{t}{\\left(r,\\theta,z \\right)} \\cos{\\left(\\theta \\right)}$"
      ],
      "text/plain": [
       "u_r(r, theta, z)*sin(theta) + u_t(r, theta, z)*cos(theta)"
      ]
     },
     "metadata": {},
     "output_type": "display_data"
    },
    {
     "data": {
      "text/latex": [
       "$\\displaystyle u_{z}{\\left(r,\\theta,z \\right)}$"
      ],
      "text/plain": [
       "u_z(r, theta, z)"
      ]
     },
     "metadata": {},
     "output_type": "display_data"
    }
   ],
   "source": [
    "u_Cart = (Q.T)*u_Pol\n",
    "\n",
    "u = u_Cart[0].simplify()\n",
    "v = u_Cart[1].simplify()\n",
    "w = u_Cart[2].simplify()\n",
    "display(u, v, w)"
   ]
  },
  {
   "cell_type": "code",
   "execution_count": 8,
   "id": "f67460d8-ba43-4926-8ea8-57f9266c89aa",
   "metadata": {},
   "outputs": [],
   "source": [
    "eps_xx = del_delx(u).simplify()\n",
    "eps_yy = del_dely(v).simplify()\n",
    "eps_zz = del_delz(w).simplify()\n",
    "eps_xy = sym.Rational(1, 2)*(del_delx(v) + del_dely(u)).simplify()\n",
    "eps_yz = sym.Rational(1, 2)*(del_dely(w) + del_delz(v)).simplify()\n",
    "eps_xz = sym.Rational(1, 2)*(del_delz(u) + del_delx(w)).simplify()\n",
    "\n",
    "eps_Cart = sym.Matrix([[eps_xx, eps_xy, eps_xz], [eps_xy, eps_yy, eps_yz], [eps_xz, eps_yz, eps_zz]])"
   ]
  },
  {
   "cell_type": "code",
   "execution_count": 9,
   "id": "815bfe6b-e289-4f76-9fdc-67cb24e146b4",
   "metadata": {},
   "outputs": [],
   "source": [
    "eps_Pol = Q*eps_Cart*(Q.T)"
   ]
  },
  {
   "cell_type": "code",
   "execution_count": 22,
   "id": "2ee8c4b9-cd3f-47b2-b01d-949596dc7e31",
   "metadata": {},
   "outputs": [
    {
     "data": {
      "text/latex": [
       "$\\displaystyle \\frac{\\partial}{\\partial r} u_{r}{\\left(r,\\theta,z \\right)}$"
      ],
      "text/plain": [
       "Derivative(u_r(r, theta, z), r)"
      ]
     },
     "metadata": {},
     "output_type": "display_data"
    }
   ],
   "source": [
    "eps_rr = eps_Pol[0, 0].simplify()\n",
    "eps_tt = eps_Pol[1, 1].simplify()\n",
    "eps_zz = eps_Pol[2, 2].simplify()\n",
    "eps_rt = eps_Pol[0, 1].simplify()\n",
    "eps_tr = eps_Pol[1, 0].simplify()\n",
    "eps_tz = eps_Pol[1, 2].simplify()\n",
    "eps_zt = eps_Pol[2, 1].simplify()\n",
    "eps_rz = eps_Pol[0, 2].simplify()\n",
    "eps_zr = eps_Pol[2, 0].simplify()"
   ]
  },
  {
   "cell_type": "code",
   "execution_count": 30,
   "id": "6115513e-ad43-436a-be1f-129337868054",
   "metadata": {},
   "outputs": [
    {
     "data": {
      "text/latex": [
       "$\\displaystyle \\frac{\\partial}{\\partial r} u_{r}{\\left(r,\\theta,z \\right)}$"
      ],
      "text/plain": [
       "Derivative(u_r(r, theta, z), r)"
      ]
     },
     "metadata": {},
     "output_type": "display_data"
    },
    {
     "data": {
      "text/latex": [
       "$\\displaystyle \\frac{u_{r}{\\left(r,\\theta,z \\right)} + \\frac{\\partial}{\\partial \\theta} u_{t}{\\left(r,\\theta,z \\right)}}{r}$"
      ],
      "text/plain": [
       "(u_r(r, theta, z) + Derivative(u_t(r, theta, z), theta))/r"
      ]
     },
     "metadata": {},
     "output_type": "display_data"
    },
    {
     "data": {
      "text/latex": [
       "$\\displaystyle \\frac{\\partial}{\\partial z} u_{z}{\\left(r,\\theta,z \\right)}$"
      ],
      "text/plain": [
       "Derivative(u_z(r, theta, z), z)"
      ]
     },
     "metadata": {},
     "output_type": "display_data"
    },
    {
     "data": {
      "text/latex": [
       "$\\displaystyle \\frac{r \\frac{\\partial}{\\partial r} u_{t}{\\left(r,\\theta,z \\right)} - u_{t}{\\left(r,\\theta,z \\right)} + \\frac{\\partial}{\\partial \\theta} u_{r}{\\left(r,\\theta,z \\right)}}{2 r}$"
      ],
      "text/plain": [
       "(r*Derivative(u_t(r, theta, z), r) - u_t(r, theta, z) + Derivative(u_r(r, theta, z), theta))/(2*r)"
      ]
     },
     "metadata": {},
     "output_type": "display_data"
    },
    {
     "data": {
      "text/latex": [
       "$\\displaystyle \\frac{\\frac{\\partial}{\\partial z} u_{r}{\\left(r,\\theta,z \\right)}}{2} + \\frac{\\frac{\\partial}{\\partial r} u_{z}{\\left(r,\\theta,z \\right)}}{2}$"
      ],
      "text/plain": [
       "Derivative(u_r(r, theta, z), z)/2 + Derivative(u_z(r, theta, z), r)/2"
      ]
     },
     "metadata": {},
     "output_type": "display_data"
    },
    {
     "data": {
      "text/latex": [
       "$\\displaystyle \\frac{r \\frac{\\partial}{\\partial z} u_{t}{\\left(r,\\theta,z \\right)} + \\frac{\\partial}{\\partial \\theta} u_{z}{\\left(r,\\theta,z \\right)}}{2 r}$"
      ],
      "text/plain": [
       "(r*Derivative(u_t(r, theta, z), z) + Derivative(u_z(r, theta, z), theta))/(2*r)"
      ]
     },
     "metadata": {},
     "output_type": "display_data"
    }
   ],
   "source": [
    "display(eps_rr, eps_tt, eps_zz, eps_rt, eps_rz, eps_tz)"
   ]
  },
  {
   "cell_type": "markdown",
   "id": "8058ec8e-88af-4e2d-ad8a-6acefecca4e8",
   "metadata": {},
   "source": [
    "## Stress Equilibrium Equations"
   ]
  },
  {
   "cell_type": "code",
   "execution_count": 42,
   "id": "18292f4a-0883-4f21-ac53-185520ee115c",
   "metadata": {},
   "outputs": [
    {
     "data": {
      "text/latex": [
       "$\\displaystyle \\left[\\begin{matrix}\\sigma_{rr}{\\left(r,\\theta,z \\right)} & \\sigma_{r \\theta}{\\left(r,\\theta,z \\right)} & \\sigma_{r z}{\\left(r,\\theta,z \\right)}\\\\\\sigma_{r \\theta}{\\left(r,\\theta,z \\right)} & \\sigma_{\\theta \\theta}{\\left(r,\\theta,z \\right)} & \\sigma_{\\theta z}{\\left(r,\\theta,z \\right)}\\\\\\sigma_{r z}{\\left(r,\\theta,z \\right)} & \\sigma_{\\theta z}{\\left(r,\\theta,z \\right)} & \\sigma_{zz}{\\left(r,\\theta,z \\right)}\\end{matrix}\\right]$"
      ],
      "text/plain": [
       "Matrix([\n",
       "[     sigma_rr(r, theta, z),     sigma_r_theta(r, theta, z),     sigma_r_z(r, theta, z)],\n",
       "[sigma_r_theta(r, theta, z), sigma_theta_theta(r, theta, z), sigma_theta_z(r, theta, z)],\n",
       "[    sigma_r_z(r, theta, z),     sigma_theta_z(r, theta, z),      sigma_zz(r, theta, z)]])"
      ]
     },
     "execution_count": 42,
     "metadata": {},
     "output_type": "execute_result"
    }
   ],
   "source": [
    "sigma_rr = sym.Function('sigma_rr')(r, theta, z)\n",
    "sigma_tt = sym.Function('sigma_theta_theta')(r, theta, z)\n",
    "sigma_zz = sym.Function('sigma_zz')(r, theta, z)\n",
    "sigma_rt = sym.Function('sigma_r_theta')(r, theta, z)\n",
    "sigma_rz = sym.Function('sigma_r_z')(r, theta, z)\n",
    "sigma_tz = sym.Function('sigma_theta_z')(r, theta, z)\n",
    "\n",
    "sigma_Pol = sym.Matrix([[sigma_rr, sigma_rt, sigma_rz], [sigma_rt, sigma_tt, sigma_tz], \\\n",
    "                         [sigma_rz, sigma_tz, sigma_zz]])\n",
    "sigma_Pol"
   ]
  },
  {
   "cell_type": "code",
   "execution_count": 44,
   "id": "1f367340-f2b2-4312-88a8-92ffcbbc4c40",
   "metadata": {},
   "outputs": [],
   "source": [
    "sigma_Cart = (Q.T)*sigma_Pol*Q"
   ]
  },
  {
   "cell_type": "code",
   "execution_count": 48,
   "id": "64b4e1e5-c92e-4e51-b4ef-d7bcc8ca1956",
   "metadata": {},
   "outputs": [],
   "source": [
    "sigma_xx = sigma_Cart[0, 0].simplify()\n",
    "sigma_yy = sigma_Cart[1, 1].simplify()\n",
    "sigma_zz = sigma_Cart[2, 2].simplify()\n",
    "sigma_xy = sigma_Cart[0, 1].simplify()\n",
    "sigma_xz = sigma_Cart[0, 2].simplify()\n",
    "sigma_yz = sigma_Cart[1, 2].simplify()"
   ]
  },
  {
   "cell_type": "code",
   "execution_count": 52,
   "id": "b21b57c7-6bea-43e5-9831-ac800fce7a4c",
   "metadata": {},
   "outputs": [],
   "source": [
    "lhs1 = (del_delx(sigma_xx) + del_dely(sigma_xy) + del_delz(sigma_xz)).simplify()\n",
    "lhs2 = (del_delx(sigma_xy) + del_dely(sigma_yy) + del_delz(sigma_yz)).simplify()\n",
    "lhs3 = (del_delx(sigma_xz) + del_dely(sigma_yz) + del_delz(sigma_zz)).simplify()\n",
    "lhs_Cart = sym.Matrix([lhs1, lhs2, lhs3])"
   ]
  },
  {
   "cell_type": "code",
   "execution_count": 56,
   "id": "51458f0d-c53d-4546-82d4-e9f9a9670334",
   "metadata": {},
   "outputs": [],
   "source": [
    "lhs_Pol = Q*lhs_Cart"
   ]
  },
  {
   "cell_type": "code",
   "execution_count": 62,
   "id": "ba375d28-915c-47f6-92e8-871e8ed5e44c",
   "metadata": {},
   "outputs": [],
   "source": [
    "f_r = sym.Function('f_r')(r, theta, z)\n",
    "f_t = sym.Function('f_theta')(r, theta, z)\n",
    "f_z = sym.Function('f_z')(r, theta, z)"
   ]
  },
  {
   "cell_type": "code",
   "execution_count": 74,
   "id": "1a90bcbb-da50-4fca-a87a-42bd3a751260",
   "metadata": {},
   "outputs": [],
   "source": [
    "eq1_Pol = sym.Eq(lhs_Pol[0].simplify().expand(), f_r)\n",
    "eq2_Pol = sym.Eq(lhs_Pol[1].simplify().expand(), f_t)\n",
    "eq3_Pol = sym.Eq(lhs_Pol[2].simplify().expand(), f_z)"
   ]
  },
  {
   "cell_type": "code",
   "execution_count": 75,
   "id": "d634ca27-5149-4ec1-b9b3-171dec9d2ab2",
   "metadata": {},
   "outputs": [
    {
     "data": {
      "text/latex": [
       "$\\displaystyle \\frac{\\partial}{\\partial z} \\sigma_{r z}{\\left(r,\\theta,z \\right)} + \\frac{\\partial}{\\partial r} \\sigma_{rr}{\\left(r,\\theta,z \\right)} + \\frac{\\sigma_{rr}{\\left(r,\\theta,z \\right)}}{r} - \\frac{\\sigma_{\\theta \\theta}{\\left(r,\\theta,z \\right)}}{r} + \\frac{\\frac{\\partial}{\\partial \\theta} \\sigma_{r \\theta}{\\left(r,\\theta,z \\right)}}{r} = f_{r}{\\left(r,\\theta,z \\right)}$"
      ],
      "text/plain": [
       "Eq(Derivative(sigma_r_z(r, theta, z), z) + Derivative(sigma_rr(r, theta, z), r) + sigma_rr(r, theta, z)/r - sigma_theta_theta(r, theta, z)/r + Derivative(sigma_r_theta(r, theta, z), theta)/r, f_r(r, theta, z))"
      ]
     },
     "metadata": {},
     "output_type": "display_data"
    },
    {
     "data": {
      "text/latex": [
       "$\\displaystyle \\frac{\\partial}{\\partial r} \\sigma_{r \\theta}{\\left(r,\\theta,z \\right)} + \\frac{\\partial}{\\partial z} \\sigma_{\\theta z}{\\left(r,\\theta,z \\right)} + \\frac{2 \\sigma_{r \\theta}{\\left(r,\\theta,z \\right)}}{r} + \\frac{\\frac{\\partial}{\\partial \\theta} \\sigma_{\\theta \\theta}{\\left(r,\\theta,z \\right)}}{r} = f_{\\theta}{\\left(r,\\theta,z \\right)}$"
      ],
      "text/plain": [
       "Eq(Derivative(sigma_r_theta(r, theta, z), r) + Derivative(sigma_theta_z(r, theta, z), z) + 2*sigma_r_theta(r, theta, z)/r + Derivative(sigma_theta_theta(r, theta, z), theta)/r, f_theta(r, theta, z))"
      ]
     },
     "metadata": {},
     "output_type": "display_data"
    },
    {
     "data": {
      "text/latex": [
       "$\\displaystyle \\frac{\\partial}{\\partial r} \\sigma_{r z}{\\left(r,\\theta,z \\right)} + \\frac{\\partial}{\\partial z} \\sigma_{zz}{\\left(r,\\theta,z \\right)} + \\frac{\\sigma_{r z}{\\left(r,\\theta,z \\right)}}{r} + \\frac{\\frac{\\partial}{\\partial \\theta} \\sigma_{\\theta z}{\\left(r,\\theta,z \\right)}}{r} = f_{z}{\\left(r,\\theta,z \\right)}$"
      ],
      "text/plain": [
       "Eq(Derivative(sigma_r_z(r, theta, z), r) + Derivative(sigma_zz(r, theta, z), z) + sigma_r_z(r, theta, z)/r + Derivative(sigma_theta_z(r, theta, z), theta)/r, f_z(r, theta, z))"
      ]
     },
     "metadata": {},
     "output_type": "display_data"
    }
   ],
   "source": [
    "display(eq1_Pol, eq2_Pol, eq3_Pol)"
   ]
  },
  {
   "cell_type": "code",
   "execution_count": null,
   "id": "7f1ad334-312f-4004-966b-683829b46f4c",
   "metadata": {},
   "outputs": [],
   "source": []
  }
 ],
 "metadata": {
  "kernelspec": {
   "display_name": "Python [conda env:base] *",
   "language": "python",
   "name": "conda-base-py"
  },
  "language_info": {
   "codemirror_mode": {
    "name": "ipython",
    "version": 3
   },
   "file_extension": ".py",
   "mimetype": "text/x-python",
   "name": "python",
   "nbconvert_exporter": "python",
   "pygments_lexer": "ipython3",
   "version": "3.12.7"
  }
 },
 "nbformat": 4,
 "nbformat_minor": 5
}
