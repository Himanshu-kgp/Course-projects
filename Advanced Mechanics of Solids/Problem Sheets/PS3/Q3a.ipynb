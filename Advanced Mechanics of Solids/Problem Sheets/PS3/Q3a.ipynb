{
 "cells": [
  {
   "cell_type": "code",
   "execution_count": 1,
   "id": "49a4c2b4-106c-4971-a3f7-2a781a533023",
   "metadata": {},
   "outputs": [],
   "source": [
    "import sympy as sym"
   ]
  },
  {
   "cell_type": "code",
   "execution_count": 2,
   "id": "6e4c98ae-a918-4ed2-85fa-e6fa220c495d",
   "metadata": {},
   "outputs": [],
   "source": [
    "r = sym.symbols('r')\n",
    "u = sym.Function('u')(r)\n",
    "epsrr = sym.diff(u, r)\n",
    "epstt = u/r\n",
    "epszz = 0\n",
    "epsrt = 0\n",
    "sigmarr, sigmatt, sigmazz = sym.symbols('sigma_rr, sigma_theta_theta, sigma_zz')\n",
    "E, nu = sym.symbols('E, nu')"
   ]
  },
  {
   "cell_type": "code",
   "execution_count": 3,
   "id": "293adc60-1677-49fc-b57b-c6272ba8930a",
   "metadata": {},
   "outputs": [
    {
     "data": {
      "text/latex": [
       "$\\displaystyle \\frac{- \\nu \\left(\\sigma_{\\theta \\theta} + \\sigma_{zz}\\right) + \\sigma_{rr}}{E} = \\frac{d}{d r} u{\\left(r \\right)}$"
      ],
      "text/plain": [
       "Eq((-nu*(sigma_theta_theta + sigma_zz) + sigma_rr)/E, Derivative(u(r), r))"
      ]
     },
     "metadata": {},
     "output_type": "display_data"
    },
    {
     "data": {
      "text/latex": [
       "$\\displaystyle \\frac{- \\nu \\left(\\sigma_{rr} + \\sigma_{zz}\\right) + \\sigma_{\\theta \\theta}}{E} = \\frac{u{\\left(r \\right)}}{r}$"
      ],
      "text/plain": [
       "Eq((-nu*(sigma_rr + sigma_zz) + sigma_theta_theta)/E, u(r)/r)"
      ]
     },
     "metadata": {},
     "output_type": "display_data"
    },
    {
     "data": {
      "text/latex": [
       "$\\displaystyle \\frac{- \\nu \\left(\\sigma_{rr} + \\sigma_{\\theta \\theta}\\right) + \\sigma_{zz}}{E} = 0$"
      ],
      "text/plain": [
       "Eq((-nu*(sigma_rr + sigma_theta_theta) + sigma_zz)/E, 0)"
      ]
     },
     "metadata": {},
     "output_type": "display_data"
    }
   ],
   "source": [
    "eq1 = sym.Eq(1/E*(sigmarr - nu*(sigmatt+sigmazz)), epsrr)\n",
    "eq2 = sym.Eq(1/E*(sigmatt - nu*(sigmarr+sigmazz)), epstt)\n",
    "eq3 = sym.Eq(1/E*(sigmazz - nu*(sigmatt+sigmarr)), 0)\n",
    "display(eq1, eq2, eq3)"
   ]
  },
  {
   "cell_type": "code",
   "execution_count": 4,
   "id": "0860611c-b5f6-4a80-ad18-a0d9ccd90b4f",
   "metadata": {},
   "outputs": [
    {
     "data": {
      "text/plain": [
       "{sigma_rr: E*nu*r*Derivative(u(r), r)/(2*nu**2*r + nu*r - r) - E*nu*u(r)/(2*nu**2*r + nu*r - r) - E*r*Derivative(u(r), r)/(2*nu**2*r + nu*r - r),\n",
       " sigma_theta_theta: -E*nu*r*Derivative(u(r), r)/(2*nu**2*r + nu*r - r) + E*nu*u(r)/(2*nu**2*r + nu*r - r) - E*u(r)/(2*nu**2*r + nu*r - r),\n",
       " sigma_zz: -E*nu*r*Derivative(u(r), r)/(2*nu**2*r + nu*r - r) - E*nu*u(r)/(2*nu**2*r + nu*r - r)}"
      ]
     },
     "execution_count": 4,
     "metadata": {},
     "output_type": "execute_result"
    }
   ],
   "source": [
    "soln = sym.solve([eq1, eq2, eq3], [sigmarr, sigmatt, sigmazz])\n",
    "soln"
   ]
  },
  {
   "cell_type": "code",
   "execution_count": 5,
   "id": "0c476176-c8af-47fc-a392-0b89d6db4f1e",
   "metadata": {},
   "outputs": [
    {
     "data": {
      "text/latex": [
       "$\\displaystyle \\frac{E \\left(\\nu r \\frac{d}{d r} u{\\left(r \\right)} - \\nu u{\\left(r \\right)} - r \\frac{d}{d r} u{\\left(r \\right)}\\right)}{r \\left(2 \\nu^{2} + \\nu - 1\\right)}$"
      ],
      "text/plain": [
       "E*(nu*r*Derivative(u(r), r) - nu*u(r) - r*Derivative(u(r), r))/(r*(2*nu**2 + nu - 1))"
      ]
     },
     "metadata": {},
     "output_type": "display_data"
    },
    {
     "data": {
      "text/latex": [
       "$\\displaystyle \\frac{E \\left(- \\nu r \\frac{d}{d r} u{\\left(r \\right)} + \\nu u{\\left(r \\right)} - u{\\left(r \\right)}\\right)}{r \\left(2 \\nu^{2} + \\nu - 1\\right)}$"
      ],
      "text/plain": [
       "E*(-nu*r*Derivative(u(r), r) + nu*u(r) - u(r))/(r*(2*nu**2 + nu - 1))"
      ]
     },
     "metadata": {},
     "output_type": "display_data"
    }
   ],
   "source": [
    "sigmarr = sigmarr.subs(soln).simplify()\n",
    "sigmatt = sigmatt.subs(soln).simplify()\n",
    "display(sigmarr, sigmatt)"
   ]
  },
  {
   "cell_type": "code",
   "execution_count": 6,
   "id": "b6254530-82b6-4fe0-801b-b94a45053cf4",
   "metadata": {},
   "outputs": [
    {
     "data": {
      "text/latex": [
       "$\\displaystyle \\frac{E \\left(\\nu r^{2} \\frac{d^{2}}{d r^{2}} u{\\left(r \\right)} + \\nu r \\frac{d}{d r} u{\\left(r \\right)} - \\nu u{\\left(r \\right)} - r^{2} \\frac{d^{2}}{d r^{2}} u{\\left(r \\right)} - r \\frac{d}{d r} u{\\left(r \\right)} + u{\\left(r \\right)}\\right)}{r^{2} \\left(2 \\nu^{2} + \\nu - 1\\right)} = 0$"
      ],
      "text/plain": [
       "Eq(E*(nu*r**2*Derivative(u(r), (r, 2)) + nu*r*Derivative(u(r), r) - nu*u(r) - r**2*Derivative(u(r), (r, 2)) - r*Derivative(u(r), r) + u(r))/(r**2*(2*nu**2 + nu - 1)), 0)"
      ]
     },
     "metadata": {},
     "output_type": "display_data"
    }
   ],
   "source": [
    "eqbmEq = sym.Eq((sym.diff(sigmarr, r) + (sigmarr - sigmatt)/r).expand().simplify(), 0)\n",
    "display(eqbmEq)"
   ]
  },
  {
   "cell_type": "code",
   "execution_count": 7,
   "id": "c39aeb98-968c-48a4-aa31-e5af0d810078",
   "metadata": {},
   "outputs": [
    {
     "data": {
      "text/latex": [
       "$\\displaystyle \\frac{C_{1}}{r} + C_{2} r$"
      ],
      "text/plain": [
       "C1/r + C2*r"
      ]
     },
     "execution_count": 7,
     "metadata": {},
     "output_type": "execute_result"
    }
   ],
   "source": [
    "soln = sym.dsolve(eqbmEq).rhs\n",
    "soln"
   ]
  },
  {
   "cell_type": "code",
   "execution_count": 8,
   "id": "820b3836-be9f-4cbe-8224-a61611214aef",
   "metadata": {},
   "outputs": [
    {
     "data": {
      "text/latex": [
       "$\\displaystyle - \\frac{E \\left(\\nu \\left(C_{1} + C_{2} r^{2}\\right) - r^{2} \\left(2 C_{2} - \\frac{C_{1} + C_{2} r^{2}}{r^{2}}\\right) \\left(\\nu - 1\\right)\\right)}{r^{2} \\left(2 \\nu^{2} + \\nu - 1\\right)}$"
      ],
      "text/plain": [
       "-E*(nu*(C1 + C2*r**2) - r**2*(2*C2 - (C1 + C2*r**2)/r**2)*(nu - 1))/(r**2*(2*nu**2 + nu - 1))"
      ]
     },
     "metadata": {},
     "output_type": "display_data"
    },
    {
     "data": {
      "text/latex": [
       "$\\displaystyle - \\frac{E \\left(C_{1} - \\nu \\left(C_{1} + C_{2} r^{2}\\right) + r^{2} \\left(C_{2} + \\nu \\left(2 C_{2} - \\frac{C_{1} + C_{2} r^{2}}{r^{2}}\\right)\\right)\\right)}{r^{2} \\left(2 \\nu^{2} + \\nu - 1\\right)}$"
      ],
      "text/plain": [
       "-E*(C1 - nu*(C1 + C2*r**2) + r**2*(C2 + nu*(2*C2 - (C1 + C2*r**2)/r**2)))/(r**2*(2*nu**2 + nu - 1))"
      ]
     },
     "metadata": {},
     "output_type": "display_data"
    }
   ],
   "source": [
    "sigmarr = sigmarr.subs(u, soln).simplify()\n",
    "sigmatt = sigmatt.subs(u, soln).simplify()\n",
    "display(sigmarr, sigmatt)"
   ]
  },
  {
   "cell_type": "code",
   "execution_count": 9,
   "id": "b72f4b4b-9cb1-42d7-8160-bb4fc5697c09",
   "metadata": {},
   "outputs": [],
   "source": [
    "C1, C2 = sym.symbols('C1, C2')\n",
    "ri, ro, Pin, Pout = sym.symbols('r_i, r_o, P_in, P_out')"
   ]
  },
  {
   "cell_type": "code",
   "execution_count": 10,
   "id": "b1715a63-2f8f-466d-a393-01dc6696d82f",
   "metadata": {},
   "outputs": [
    {
     "data": {
      "text/latex": [
       "$\\displaystyle - \\frac{E \\left(\\nu \\left(C_{1} + C_{2} r_{i}^{2}\\right) - r_{i}^{2} \\left(2 C_{2} - \\frac{C_{1} + C_{2} r_{i}^{2}}{r_{i}^{2}}\\right) \\left(\\nu - 1\\right)\\right)}{r_{i}^{2} \\left(2 \\nu^{2} + \\nu - 1\\right)} = - P_{in}$"
      ],
      "text/plain": [
       "Eq(-E*(nu*(C1 + C2*r_i**2) - r_i**2*(2*C2 - (C1 + C2*r_i**2)/r_i**2)*(nu - 1))/(r_i**2*(2*nu**2 + nu - 1)), -P_in)"
      ]
     },
     "metadata": {},
     "output_type": "display_data"
    },
    {
     "data": {
      "text/latex": [
       "$\\displaystyle - \\frac{E \\left(\\nu \\left(C_{1} + C_{2} r_{o}^{2}\\right) - r_{o}^{2} \\left(2 C_{2} - \\frac{C_{1} + C_{2} r_{o}^{2}}{r_{o}^{2}}\\right) \\left(\\nu - 1\\right)\\right)}{r_{o}^{2} \\left(2 \\nu^{2} + \\nu - 1\\right)} = - P_{out}$"
      ],
      "text/plain": [
       "Eq(-E*(nu*(C1 + C2*r_o**2) - r_o**2*(2*C2 - (C1 + C2*r_o**2)/r_o**2)*(nu - 1))/(r_o**2*(2*nu**2 + nu - 1)), -P_out)"
      ]
     },
     "metadata": {},
     "output_type": "display_data"
    }
   ],
   "source": [
    "bc1 = sym.Eq(sigmarr.subs(r, ri), -Pin)\n",
    "bc2 = sym.Eq(sigmarr.subs(r, ro), -Pout)\n",
    "display(bc1, bc2)"
   ]
  },
  {
   "cell_type": "code",
   "execution_count": 11,
   "id": "7bbea186-bc5b-438f-bc13-1a42a02e96e1",
   "metadata": {},
   "outputs": [],
   "source": [
    "constants_soln = sym.solve([bc1, bc2], [C1, C2])"
   ]
  },
  {
   "cell_type": "code",
   "execution_count": 12,
   "id": "0239e70a-f156-4781-908a-c8ee7119d0dd",
   "metadata": {},
   "outputs": [
    {
     "data": {
      "text/latex": [
       "$\\displaystyle \\frac{- P_{in} r^{2} r_{i}^{2} + P_{in} r_{i}^{2} r_{o}^{2} + P_{out} r^{2} r_{o}^{2} - P_{out} r_{i}^{2} r_{o}^{2}}{r^{2} \\left(r_{i}^{2} - r_{o}^{2}\\right)}$"
      ],
      "text/plain": [
       "(-P_in*r**2*r_i**2 + P_in*r_i**2*r_o**2 + P_out*r**2*r_o**2 - P_out*r_i**2*r_o**2)/(r**2*(r_i**2 - r_o**2))"
      ]
     },
     "metadata": {},
     "output_type": "display_data"
    },
    {
     "data": {
      "text/latex": [
       "$\\displaystyle \\frac{- P_{in} r^{2} r_{i}^{2} - P_{in} r_{i}^{2} r_{o}^{2} + P_{out} r^{2} r_{o}^{2} + P_{out} r_{i}^{2} r_{o}^{2}}{r^{2} \\left(r_{i}^{2} - r_{o}^{2}\\right)}$"
      ],
      "text/plain": [
       "(-P_in*r**2*r_i**2 - P_in*r_i**2*r_o**2 + P_out*r**2*r_o**2 + P_out*r_i**2*r_o**2)/(r**2*(r_i**2 - r_o**2))"
      ]
     },
     "metadata": {},
     "output_type": "display_data"
    }
   ],
   "source": [
    "sigmarr = sigmarr.subs(constants_soln).simplify()\n",
    "sigmatt = sigmatt.subs(constants_soln).simplify()\n",
    "display(sigmarr, sigmatt)"
   ]
  },
  {
   "cell_type": "code",
   "execution_count": 13,
   "id": "6b6280ce-5164-4a98-b7fa-2b984a0bd4ea",
   "metadata": {},
   "outputs": [
    {
     "data": {
      "text/latex": [
       "$\\displaystyle \\frac{- P_{in} r_{i}^{2} + P_{out} r_{o}^{2}}{2 \\left(r_{i}^{2} - r_{o}^{2}\\right)}$"
      ],
      "text/plain": [
       "(-P_in*r_i**2 + P_out*r_o**2)/(2*(r_i**2 - r_o**2))"
      ]
     },
     "execution_count": 13,
     "metadata": {},
     "output_type": "execute_result"
    }
   ],
   "source": [
    "(sigmarr+sigmatt).simplify()/4"
   ]
  },
  {
   "cell_type": "code",
   "execution_count": null,
   "id": "e504c671-e169-48f6-b426-22571c81b7f4",
   "metadata": {},
   "outputs": [],
   "source": []
  }
 ],
 "metadata": {
  "kernelspec": {
   "display_name": "Python [conda env:base] *",
   "language": "python",
   "name": "conda-base-py"
  },
  "language_info": {
   "codemirror_mode": {
    "name": "ipython",
    "version": 3
   },
   "file_extension": ".py",
   "mimetype": "text/x-python",
   "name": "python",
   "nbconvert_exporter": "python",
   "pygments_lexer": "ipython3",
   "version": "3.12.7"
  }
 },
 "nbformat": 4,
 "nbformat_minor": 5
}
