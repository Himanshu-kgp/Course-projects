{
 "cells": [
  {
   "cell_type": "code",
   "execution_count": 1,
   "id": "c9f7a5ec-08d2-44d8-8bac-b09d4ceada94",
   "metadata": {},
   "outputs": [],
   "source": [
    "import sympy as sym"
   ]
  },
  {
   "cell_type": "code",
   "execution_count": 3,
   "id": "1959e42a-9e6d-49af-b586-a6019cdb10e8",
   "metadata": {},
   "outputs": [],
   "source": [
    "rho, phi, theta = sym.symbols('rho, phi, theta')"
   ]
  },
  {
   "cell_type": "code",
   "execution_count": 7,
   "id": "c60d162f-7f05-4ffd-aba8-da866a097b68",
   "metadata": {},
   "outputs": [
    {
     "data": {
      "text/latex": [
       "$\\displaystyle \\rho \\cos{\\left(\\phi \\right)} \\cos{\\left(\\theta \\right)}$"
      ],
      "text/plain": [
       "rho*cos(phi)*cos(theta)"
      ]
     },
     "metadata": {},
     "output_type": "display_data"
    },
    {
     "data": {
      "text/latex": [
       "$\\displaystyle \\rho \\sin{\\left(\\theta \\right)} \\cos{\\left(\\phi \\right)}$"
      ],
      "text/plain": [
       "rho*sin(theta)*cos(phi)"
      ]
     },
     "metadata": {},
     "output_type": "display_data"
    },
    {
     "data": {
      "text/latex": [
       "$\\displaystyle \\rho \\sin{\\left(\\phi \\right)}$"
      ],
      "text/plain": [
       "rho*sin(phi)"
      ]
     },
     "metadata": {},
     "output_type": "display_data"
    }
   ],
   "source": [
    "x = rho*sym.cos(phi)*sym.cos(theta)\n",
    "y = rho*sym.cos(phi)*sym.sin(theta)\n",
    "z = rho*sym.sin(phi)\n",
    "display(x, y, z)"
   ]
  },
  {
   "cell_type": "code",
   "execution_count": 9,
   "id": "a241aec3-c428-4592-b2be-faa232acebb0",
   "metadata": {},
   "outputs": [],
   "source": [
    "def D(fun, var):\n",
    "    return sym.diff(fun, var)"
   ]
  },
  {
   "cell_type": "code",
   "execution_count": 23,
   "id": "96add314-8e1f-4ff6-9b1d-a84bf38cd5c3",
   "metadata": {},
   "outputs": [
    {
     "data": {
      "text/latex": [
       "$\\displaystyle \\left[\\begin{matrix}\\cos{\\left(\\phi \\right)} \\cos{\\left(\\theta \\right)} & \\sin{\\left(\\theta \\right)} \\cos{\\left(\\phi \\right)} & \\sin{\\left(\\phi \\right)}\\\\- \\rho \\sin{\\left(\\phi \\right)} \\cos{\\left(\\theta \\right)} & - \\rho \\sin{\\left(\\phi \\right)} \\sin{\\left(\\theta \\right)} & \\rho \\cos{\\left(\\phi \\right)}\\\\- \\rho \\sin{\\left(\\theta \\right)} \\cos{\\left(\\phi \\right)} & \\rho \\cos{\\left(\\phi \\right)} \\cos{\\left(\\theta \\right)} & 0\\end{matrix}\\right]$"
      ],
      "text/plain": [
       "Matrix([\n",
       "[     cos(phi)*cos(theta),      sin(theta)*cos(phi),     sin(phi)],\n",
       "[-rho*sin(phi)*cos(theta), -rho*sin(phi)*sin(theta), rho*cos(phi)],\n",
       "[-rho*sin(theta)*cos(phi),  rho*cos(phi)*cos(theta),            0]])"
      ]
     },
     "metadata": {},
     "output_type": "display_data"
    }
   ],
   "source": [
    "J = sym.Matrix([[D(x, rho), D(x, phi), D(x, theta)], \\\n",
    "                [D(y, rho), D(y, phi), D(y, theta)], \\\n",
    "                [D(z, rho), D(z, phi), D(z, theta)]]).T\n",
    "display(J)"
   ]
  },
  {
   "cell_type": "code",
   "execution_count": 27,
   "id": "ae03737d-936e-4be5-8155-ee61d1c70c3c",
   "metadata": {},
   "outputs": [
    {
     "data": {
      "text/latex": [
       "$\\displaystyle \\left[\\begin{matrix}\\frac{\\cos{\\left(\\phi \\right)} \\cos{\\left(\\theta \\right)}}{\\sin^{2}{\\left(\\phi \\right)} \\sin^{2}{\\left(\\theta \\right)} + \\sin^{2}{\\left(\\phi \\right)} \\cos^{2}{\\left(\\theta \\right)} + \\sin^{2}{\\left(\\theta \\right)} \\cos^{2}{\\left(\\phi \\right)} + \\cos^{2}{\\left(\\phi \\right)} \\cos^{2}{\\left(\\theta \\right)}} & - \\frac{\\sin{\\left(\\phi \\right)} \\cos{\\left(\\theta \\right)}}{\\rho \\sin^{2}{\\left(\\phi \\right)} \\sin^{2}{\\left(\\theta \\right)} + \\rho \\sin^{2}{\\left(\\phi \\right)} \\cos^{2}{\\left(\\theta \\right)} + \\rho \\sin^{2}{\\left(\\theta \\right)} \\cos^{2}{\\left(\\phi \\right)} + \\rho \\cos^{2}{\\left(\\phi \\right)} \\cos^{2}{\\left(\\theta \\right)}} & - \\frac{\\sin{\\left(\\theta \\right)}}{\\rho \\sin^{2}{\\left(\\theta \\right)} \\cos{\\left(\\phi \\right)} + \\rho \\cos{\\left(\\phi \\right)} \\cos^{2}{\\left(\\theta \\right)}}\\\\\\frac{\\sin{\\left(\\theta \\right)} \\cos{\\left(\\phi \\right)}}{\\sin^{2}{\\left(\\phi \\right)} \\sin^{2}{\\left(\\theta \\right)} + \\sin^{2}{\\left(\\phi \\right)} \\cos^{2}{\\left(\\theta \\right)} + \\sin^{2}{\\left(\\theta \\right)} \\cos^{2}{\\left(\\phi \\right)} + \\cos^{2}{\\left(\\phi \\right)} \\cos^{2}{\\left(\\theta \\right)}} & - \\frac{\\sin{\\left(\\phi \\right)} \\sin{\\left(\\theta \\right)}}{\\rho \\sin^{2}{\\left(\\phi \\right)} \\sin^{2}{\\left(\\theta \\right)} + \\rho \\sin^{2}{\\left(\\phi \\right)} \\cos^{2}{\\left(\\theta \\right)} + \\rho \\sin^{2}{\\left(\\theta \\right)} \\cos^{2}{\\left(\\phi \\right)} + \\rho \\cos^{2}{\\left(\\phi \\right)} \\cos^{2}{\\left(\\theta \\right)}} & \\frac{\\cos{\\left(\\theta \\right)}}{\\rho \\sin^{2}{\\left(\\theta \\right)} \\cos{\\left(\\phi \\right)} + \\rho \\cos{\\left(\\phi \\right)} \\cos^{2}{\\left(\\theta \\right)}}\\\\\\frac{\\sin{\\left(\\phi \\right)}}{\\sin^{2}{\\left(\\phi \\right)} + \\cos^{2}{\\left(\\phi \\right)}} & \\frac{\\cos{\\left(\\phi \\right)}}{\\rho \\sin^{2}{\\left(\\phi \\right)} + \\rho \\cos^{2}{\\left(\\phi \\right)}} & 0\\end{matrix}\\right]$"
      ],
      "text/plain": [
       "Matrix([\n",
       "[cos(phi)*cos(theta)/(sin(phi)**2*sin(theta)**2 + sin(phi)**2*cos(theta)**2 + sin(theta)**2*cos(phi)**2 + cos(phi)**2*cos(theta)**2), -sin(phi)*cos(theta)/(rho*sin(phi)**2*sin(theta)**2 + rho*sin(phi)**2*cos(theta)**2 + rho*sin(theta)**2*cos(phi)**2 + rho*cos(phi)**2*cos(theta)**2), -sin(theta)/(rho*sin(theta)**2*cos(phi) + rho*cos(phi)*cos(theta)**2)],\n",
       "[sin(theta)*cos(phi)/(sin(phi)**2*sin(theta)**2 + sin(phi)**2*cos(theta)**2 + sin(theta)**2*cos(phi)**2 + cos(phi)**2*cos(theta)**2), -sin(phi)*sin(theta)/(rho*sin(phi)**2*sin(theta)**2 + rho*sin(phi)**2*cos(theta)**2 + rho*sin(theta)**2*cos(phi)**2 + rho*cos(phi)**2*cos(theta)**2),  cos(theta)/(rho*sin(theta)**2*cos(phi) + rho*cos(phi)*cos(theta)**2)],\n",
       "[                                                                                               sin(phi)/(sin(phi)**2 + cos(phi)**2),                                                                                                         cos(phi)/(rho*sin(phi)**2 + rho*cos(phi)**2),                                                                     0]])"
      ]
     },
     "metadata": {},
     "output_type": "display_data"
    }
   ],
   "source": [
    "A = J.inv()\n",
    "display(A)"
   ]
  },
  {
   "cell_type": "code",
   "execution_count": 29,
   "id": "b2b2cca6-6e1f-4c94-afa0-238339e3739a",
   "metadata": {},
   "outputs": [],
   "source": [
    "def del_delx(f):\n",
    "    return A[0, 0]*D(f, rho) + A[0, 1]*D(f, phi) + A[0, 2]*D(f, theta)\n",
    "def del_dely(f):\n",
    "    return A[1, 0]*D(f, rho) + A[1, 1]*D(f, phi) + A[1, 2]*D(f, theta)\n",
    "def del_delz(f):\n",
    "    return A[2, 0]*D(f, rho) + A[2, 1]*D(f, phi) + A[2, 2]*D(f, theta)"
   ]
  },
  {
   "cell_type": "code",
   "execution_count": null,
   "id": "f0dd0694-a650-42c4-9133-dde40199d614",
   "metadata": {},
   "outputs": [],
   "source": []
  }
 ],
 "metadata": {
  "kernelspec": {
   "display_name": "Python [conda env:base] *",
   "language": "python",
   "name": "conda-base-py"
  },
  "language_info": {
   "codemirror_mode": {
    "name": "ipython",
    "version": 3
   },
   "file_extension": ".py",
   "mimetype": "text/x-python",
   "name": "python",
   "nbconvert_exporter": "python",
   "pygments_lexer": "ipython3",
   "version": "3.12.7"
  }
 },
 "nbformat": 4,
 "nbformat_minor": 5
}
