{
 "cells": [
  {
   "cell_type": "code",
   "execution_count": 1,
   "id": "854ae584-e3d3-4c54-810c-ab60a7231cc4",
   "metadata": {},
   "outputs": [],
   "source": [
    "import sympy as sym"
   ]
  },
  {
   "cell_type": "code",
   "execution_count": 2,
   "id": "4835b5d2-916d-4ea3-89aa-a86f553858e8",
   "metadata": {},
   "outputs": [],
   "source": [
    "x, y = sym.symbols('x, y')\n",
    "C1, C2, C3, C4, C5, C6, C7, C8 = sym.symbols('C_1, C_2, C_3, C_4, C_5, C_6, C_7, C_8');"
   ]
  },
  {
   "cell_type": "code",
   "execution_count": 22,
   "id": "66c8a11a-5e9d-4c2e-82eb-8e2d432ade38",
   "metadata": {},
   "outputs": [
    {
     "data": {
      "text/latex": [
       "$\\displaystyle C_{1} y^{2} + C_{2} y^{3} + C_{3} y^{4} + C_{4} y^{5} + C_{5} x^{2} + C_{6} x^{2} y + C_{7} x^{2} y^{2} + C_{8} x^{2} y^{3}$"
      ],
      "text/plain": [
       "C_1*y**2 + C_2*y**3 + C_3*y**4 + C_4*y**5 + C_5*x**2 + C_6*x**2*y + C_7*x**2*y**2 + C_8*x**2*y**3"
      ]
     },
     "metadata": {},
     "output_type": "display_data"
    }
   ],
   "source": [
    "phi = C1*y**2 + C2*y**3 + C3*y**4 + C4*y**5 + C5*x**2 + C6*x**2*y + C7*x**2*y**2 + C8*x**2*y**3\n",
    "display(phi)"
   ]
  },
  {
   "cell_type": "code",
   "execution_count": 24,
   "id": "4e7971ee-b59b-476c-99ac-7766e897c37b",
   "metadata": {},
   "outputs": [],
   "source": [
    "def Laplacian(f):\n",
    "    return sym.diff(f, (x, 2)) + sym.diff(f, (y, 2))\n",
    "\n",
    "def biharmonic(f):\n",
    "    return Laplacian(Laplacian(f))"
   ]
  },
  {
   "cell_type": "code",
   "execution_count": 26,
   "id": "c657281f-d420-416d-a6cd-a0758415f017",
   "metadata": {},
   "outputs": [
    {
     "data": {
      "text/latex": [
       "$\\displaystyle 24 C_{3} + 120 C_{4} y + 8 C_{7} + 24 C_{8} y$"
      ],
      "text/plain": [
       "24*C_3 + 120*C_4*y + 8*C_7 + 24*C_8*y"
      ]
     },
     "metadata": {},
     "output_type": "display_data"
    }
   ],
   "source": [
    "biharm = biharmonic(phi).expand()\n",
    "display(biharm)"
   ]
  },
  {
   "cell_type": "code",
   "execution_count": 28,
   "id": "47a8d2ef-1511-4543-84f1-afa3ad557a85",
   "metadata": {},
   "outputs": [
    {
     "data": {
      "text/latex": [
       "$\\displaystyle 120 C_{4} + 24 C_{8}$"
      ],
      "text/plain": [
       "120*C_4 + 24*C_8"
      ]
     },
     "metadata": {},
     "output_type": "display_data"
    },
    {
     "data": {
      "text/latex": [
       "$\\displaystyle 24 C_{3} + 8 C_{7}$"
      ],
      "text/plain": [
       "24*C_3 + 8*C_7"
      ]
     },
     "metadata": {},
     "output_type": "display_data"
    }
   ],
   "source": [
    "biharm_y = biharm.coeff(y)\n",
    "biharm_c = biharm.subs(y, 0)\n",
    "display(biharm_y, biharm_c)"
   ]
  },
  {
   "cell_type": "code",
   "execution_count": 30,
   "id": "d69ac825-ba39-453a-8378-ad1eab9961bc",
   "metadata": {},
   "outputs": [],
   "source": [
    "sigmaxx = sym.diff(phi, (y, 2))\n",
    "sigmayy = sym.diff(phi, (x, 2))\n",
    "sigmaxy = -sym.diff(sym.diff(phi, x), y)"
   ]
  },
  {
   "cell_type": "code",
   "execution_count": 32,
   "id": "06540923-c223-41ac-9699-2a3515263d19",
   "metadata": {},
   "outputs": [],
   "source": [
    "l, c, tau0,  = sym.symbols('l, c, tau_0', positive=True)"
   ]
  },
  {
   "cell_type": "markdown",
   "id": "b3ec638f-2856-4b81-93af-2323a68162f5",
   "metadata": {},
   "source": [
    "Top Edge:"
   ]
  },
  {
   "cell_type": "code",
   "execution_count": 35,
   "id": "7013a7b2-01ac-45f7-96bd-327c13c871d2",
   "metadata": {},
   "outputs": [
    {
     "data": {
      "text/latex": [
       "$\\displaystyle 2 C_{5} + 2 C_{6} c + 2 C_{7} c^{2} + 2 C_{8} c^{3}$"
      ],
      "text/plain": [
       "2*C_5 + 2*C_6*c + 2*C_7*c**2 + 2*C_8*c**3"
      ]
     },
     "metadata": {},
     "output_type": "display_data"
    },
    {
     "data": {
      "text/latex": [
       "$\\displaystyle - 2 C_{6} x - 4 C_{7} c x - 6 C_{8} c^{2} x$"
      ],
      "text/plain": [
       "-2*C_6*x - 4*C_7*c*x - 6*C_8*c**2*x"
      ]
     },
     "metadata": {},
     "output_type": "display_data"
    }
   ],
   "source": [
    "sigmayyTop = sigmayy.subs(y, c)\n",
    "sigmaxyTop = sigmaxy.subs(y, c)\n",
    "\n",
    "display(sigmayyTop, sigmaxyTop)"
   ]
  },
  {
   "cell_type": "code",
   "execution_count": 37,
   "id": "7030e76b-c8bc-4f06-bf02-aa5ef412e084",
   "metadata": {},
   "outputs": [
    {
     "data": {
      "text/latex": [
       "$\\displaystyle 2 C_{5} + 2 C_{6} c + 2 C_{7} c^{2} + 2 C_{8} c^{3}$"
      ],
      "text/plain": [
       "2*C_5 + 2*C_6*c + 2*C_7*c**2 + 2*C_8*c**3"
      ]
     },
     "metadata": {},
     "output_type": "display_data"
    },
    {
     "data": {
      "text/latex": [
       "$\\displaystyle - 2 C_{6} - 4 C_{7} c - 6 C_{8} c^{2}$"
      ],
      "text/plain": [
       "-2*C_6 - 4*C_7*c - 6*C_8*c**2"
      ]
     },
     "metadata": {},
     "output_type": "display_data"
    }
   ],
   "source": [
    "sigmayyTop_c = sigmayyTop.subs(x, 0)\n",
    "sigmaxyTop_x = sigmaxyTop.coeff(x)\n",
    "display(sigmayyTop_c, sigmaxyTop_x)"
   ]
  },
  {
   "cell_type": "markdown",
   "id": "70955814-cd14-4840-b499-b5ac688b9e1f",
   "metadata": {},
   "source": [
    "Bottom Edge:"
   ]
  },
  {
   "cell_type": "code",
   "execution_count": 40,
   "id": "80378462-f70a-45cb-a725-a7b676085b32",
   "metadata": {},
   "outputs": [
    {
     "data": {
      "text/latex": [
       "$\\displaystyle 2 C_{5} - 2 C_{6} c + 2 C_{7} c^{2} - 2 C_{8} c^{3}$"
      ],
      "text/plain": [
       "2*C_5 - 2*C_6*c + 2*C_7*c**2 - 2*C_8*c**3"
      ]
     },
     "metadata": {},
     "output_type": "display_data"
    },
    {
     "data": {
      "text/latex": [
       "$\\displaystyle - 2 C_{6} x + 4 C_{7} c x - 6 C_{8} c^{2} x$"
      ],
      "text/plain": [
       "-2*C_6*x + 4*C_7*c*x - 6*C_8*c**2*x"
      ]
     },
     "metadata": {},
     "output_type": "display_data"
    }
   ],
   "source": [
    "sigmayyBottom = sigmayy.subs(y, -c)\n",
    "sigmaxyBottom = sigmaxy.subs(y, -c)\n",
    "\n",
    "display(sigmayyBottom, sigmaxyBottom)"
   ]
  },
  {
   "cell_type": "code",
   "execution_count": 42,
   "id": "e204bcc6-0012-42d1-870c-77058b270b44",
   "metadata": {},
   "outputs": [
    {
     "data": {
      "text/latex": [
       "$\\displaystyle 2 C_{5} - 2 C_{6} c + 2 C_{7} c^{2} - 2 C_{8} c^{3}$"
      ],
      "text/plain": [
       "2*C_5 - 2*C_6*c + 2*C_7*c**2 - 2*C_8*c**3"
      ]
     },
     "metadata": {},
     "output_type": "display_data"
    },
    {
     "data": {
      "text/latex": [
       "$\\displaystyle - 2 C_{6} + 4 C_{7} c - 6 C_{8} c^{2}$"
      ],
      "text/plain": [
       "-2*C_6 + 4*C_7*c - 6*C_8*c**2"
      ]
     },
     "metadata": {},
     "output_type": "display_data"
    }
   ],
   "source": [
    "sigmayyBottom_c = sigmayyBottom.subs(x, 0)\n",
    "sigmaxyBottom_x = sigmaxyBottom.coeff(x)\n",
    "display(sigmayyBottom_c, sigmaxyBottom_x)"
   ]
  },
  {
   "cell_type": "markdown",
   "id": "aeefc703-3288-49c0-a90a-3eaa6f3dc301",
   "metadata": {},
   "source": [
    "Right Edge:"
   ]
  },
  {
   "cell_type": "code",
   "execution_count": 45,
   "id": "23e0ba14-bf45-4ac0-84c5-d1dfbd7d33f6",
   "metadata": {},
   "outputs": [],
   "source": [
    "forceRight = sym.integrate(sigmaxx, (y, -c, c)).subs(x, 0)\n",
    "momentRight = sym.integrate(sigmaxx*y, (y, -c, c)).subs(x, 0)\n",
    "shearRight = sym.integrate(sigmaxy, (y, -c, c)).subs(x, 0)"
   ]
  },
  {
   "cell_type": "markdown",
   "id": "04d82d30-79a8-4991-afa0-d5d39444b9ce",
   "metadata": {},
   "source": [
    "Left Edge:"
   ]
  },
  {
   "cell_type": "code",
   "execution_count": 48,
   "id": "584aa003-3b2d-4d3f-8680-e3d35b6945d8",
   "metadata": {},
   "outputs": [],
   "source": [
    "forceLeft = sym.integrate(sigmaxx, (y, -c, c)).subs(x, l)\n",
    "momentLeft = sym.integrate(sigmaxx*y, (y, -c, c)).subs(x, l)\n",
    "shearLeft = sym.integrate(sigmaxy, (y, -c, c)).subs(x, l)"
   ]
  },
  {
   "cell_type": "markdown",
   "id": "d6a99a67-e814-4c21-ae60-4c6a82858317",
   "metadata": {},
   "source": [
    "If the boundary conditions and loading are different, change the RHS of the following"
   ]
  },
  {
   "cell_type": "code",
   "execution_count": 20,
   "id": "41f190f1-e130-477e-b70d-98778ce37f51",
   "metadata": {},
   "outputs": [
    {
     "ename": "TypeError",
     "evalue": "Equality.__new__() missing 1 required positional argument: 'rhs'",
     "output_type": "error",
     "traceback": [
      "\u001b[1;31m---------------------------------------------------------------------------\u001b[0m",
      "\u001b[1;31mTypeError\u001b[0m                                 Traceback (most recent call last)",
      "Cell \u001b[1;32mIn[20], line 16\u001b[0m\n\u001b[0;32m     13\u001b[0m bc7 \u001b[38;5;241m=\u001b[39m sym\u001b[38;5;241m.\u001b[39mEq(shearRight, \u001b[38;5;241m0\u001b[39m)\n\u001b[0;32m     15\u001b[0m bc8  \u001b[38;5;241m=\u001b[39m sym\u001b[38;5;241m.\u001b[39mEq(forceLeft, \u001b[38;5;241m0\u001b[39m)\n\u001b[1;32m---> 16\u001b[0m bc9 \u001b[38;5;241m=\u001b[39m sym\u001b[38;5;241m.\u001b[39mEq(momentLeft, )\n\u001b[0;32m     17\u001b[0m bc10 \u001b[38;5;241m=\u001b[39m sym\u001b[38;5;241m.\u001b[39mEq(shearLeft, )\n",
      "\u001b[1;31mTypeError\u001b[0m: Equality.__new__() missing 1 required positional argument: 'rhs'"
     ]
    }
   ],
   "source": [
    "cond1 = sym.Eq(biharm_y, 0)\n",
    "cond2 = sym.Eq(biharm_c, 0)\n",
    "\n",
    "\n",
    "bc1 = sym.Eq(sigmayyTop_c, 0)\n",
    "bc2 = sym.Eq(sigmaxyTop_x, -tau0/l)\n",
    "\n",
    "bc3 = sym.Eq(sigmayyBottom_c, 0)\n",
    "bc4 = sym.Eq(sigmaxyBottom_x, 0)\n",
    "\n",
    "bc5  = sym.Eq(forceRight, 0)\n",
    "bc6 = sym.Eq(momentRight, 0)\n",
    "bc7 = sym.Eq(shearRight, 0)\n",
    "\n",
    "bc8  = sym.Eq(forceLeft, 0)\n",
    "bc9 = sym.Eq(momentLeft, sym.integrate(tau0*x*c/l, (x, 0, l)))\n",
    "bc10 = sym.Eq(shearLeft, sym.integrate(tau0*x/l, (x, 0, l)))"
   ]
  },
  {
   "cell_type": "code",
   "execution_count": null,
   "id": "1323981f-f571-4b7e-909e-c8b85601bca8",
   "metadata": {},
   "outputs": [],
   "source": [
    "eq_list = list([cond1,cond2, bc1, bc2, bc3, bc4, bc5, bc6, bc7, bc8, bc9, bc10])\n",
    "# display(eq_list)"
   ]
  },
  {
   "cell_type": "code",
   "execution_count": null,
   "id": "a48abdce-1a93-495a-a6bd-8373ae4bc0da",
   "metadata": {},
   "outputs": [],
   "source": [
    "unknowns_list = list([C1, C2, C3, C4, C5, C6, C7, C8]);\n",
    "# display(unknowns_list)"
   ]
  },
  {
   "cell_type": "code",
   "execution_count": null,
   "id": "8bc6c6aa-ea9f-4c8f-b7da-d0c17e614806",
   "metadata": {},
   "outputs": [],
   "source": [
    "sol = sym.solve(eq_list, unknowns_list)\n",
    "display(sol)"
   ]
  },
  {
   "cell_type": "code",
   "execution_count": null,
   "id": "7f9f3a30-8846-43f1-b9b2-bb53362e37a0",
   "metadata": {},
   "outputs": [],
   "source": [
    "sigmaxx = sigmaxx.subs(sol)\n",
    "display(sigmaxx)"
   ]
  },
  {
   "cell_type": "code",
   "execution_count": null,
   "id": "948009a0-b57c-41fd-ab9a-ce166b8d5818",
   "metadata": {},
   "outputs": [],
   "source": [
    "sigmayy = sigmayy.subs(sol)\n",
    "display(sigmayy)"
   ]
  },
  {
   "cell_type": "code",
   "execution_count": null,
   "id": "1e38a833-aba2-44a7-909a-bc2f937e85f0",
   "metadata": {},
   "outputs": [],
   "source": [
    "sigmaxy = sigmaxy.subs(sol)\n",
    "display(sigmaxy)"
   ]
  },
  {
   "cell_type": "code",
   "execution_count": null,
   "id": "227c1cba-bb65-4466-9570-ad5cd1f3d0db",
   "metadata": {},
   "outputs": [],
   "source": [
    "sym.integrate(rho*x/L, (x, 0, L))"
   ]
  },
  {
   "cell_type": "code",
   "execution_count": null,
   "id": "7f32bb33-62d4-4785-89fe-7155bdc57301",
   "metadata": {},
   "outputs": [],
   "source": [
    "sym.integrate(rho*x*(L-x)/L, (x, 0, L))"
   ]
  },
  {
   "cell_type": "code",
   "execution_count": 51,
   "id": "65b67b3b-c68a-43de-b105-764dcd7398c7",
   "metadata": {},
   "outputs": [
    {
     "data": {
      "text/latex": [
       "$\\displaystyle \\frac{c l \\tau_{0}}{2}$"
      ],
      "text/plain": [
       "c*l*tau_0/2"
      ]
     },
     "execution_count": 51,
     "metadata": {},
     "output_type": "execute_result"
    }
   ],
   "source": []
  },
  {
   "cell_type": "code",
   "execution_count": 53,
   "id": "e0a45435-fa0b-45e0-b78d-6266763ed135",
   "metadata": {},
   "outputs": [
    {
     "data": {
      "text/latex": [
       "$\\displaystyle \\frac{l \\tau_{0}}{2}$"
      ],
      "text/plain": [
       "l*tau_0/2"
      ]
     },
     "execution_count": 53,
     "metadata": {},
     "output_type": "execute_result"
    }
   ],
   "source": []
  },
  {
   "cell_type": "code",
   "execution_count": null,
   "id": "3de156e4-a869-417f-bd6c-1539c38170c6",
   "metadata": {},
   "outputs": [],
   "source": []
  }
 ],
 "metadata": {
  "kernelspec": {
   "display_name": "Python [conda env:base] *",
   "language": "python",
   "name": "conda-base-py"
  },
  "language_info": {
   "codemirror_mode": {
    "name": "ipython",
    "version": 3
   },
   "file_extension": ".py",
   "mimetype": "text/x-python",
   "name": "python",
   "nbconvert_exporter": "python",
   "pygments_lexer": "ipython3",
   "version": "3.12.7"
  }
 },
 "nbformat": 4,
 "nbformat_minor": 5
}
