{
 "cells": [
  {
   "cell_type": "code",
   "execution_count": 1,
   "id": "854ae584-e3d3-4c54-810c-ab60a7231cc4",
   "metadata": {},
   "outputs": [],
   "source": [
    "import sympy as sym"
   ]
  },
  {
   "cell_type": "code",
   "execution_count": 2,
   "id": "4835b5d2-916d-4ea3-89aa-a86f553858e8",
   "metadata": {},
   "outputs": [],
   "source": [
    "N = 5\n",
    "x, y = sym.symbols('x, y')\n"
   ]
  },
  {
   "cell_type": "code",
   "execution_count": 3,
   "id": "66c8a11a-5e9d-4c2e-82eb-8e2d432ade38",
   "metadata": {},
   "outputs": [],
   "source": [
    "count = 0\n",
    "dict = {}\n",
    "phi = 0\n",
    "for order in range(2, N+1):\n",
    "    # print(order)\n",
    "    for i in range(order+1):\n",
    "        for j in range(order+1):\n",
    "            if( i+j == order):\n",
    "                # print(i, j)\n",
    "                varSymName = 'A_' + str(i) + str(j)\n",
    "                varName = 'A'+ str(i) + str(j)\n",
    "                dict[varName] = varSymName\n",
    "                var = sym.symbols(varSymName)\n",
    "                phi = phi + var*x**i*y**j\n",
    "                count = count+1\n",
    "\n"
   ]
  },
  {
   "cell_type": "code",
   "execution_count": 4,
   "id": "1f5d5e35-0dce-425a-94ce-7af95164d905",
   "metadata": {},
   "outputs": [
    {
     "data": {
      "text/latex": [
       "$\\displaystyle A_{02} y^{2} + A_{03} y^{3} + A_{04} y^{4} + A_{05} y^{5} + A_{11} x y + A_{12} x y^{2} + A_{13} x y^{3} + A_{14} x y^{4} + A_{20} x^{2} + A_{21} x^{2} y + A_{22} x^{2} y^{2} + A_{23} x^{2} y^{3} + A_{30} x^{3} + A_{31} x^{3} y + A_{32} x^{3} y^{2} + A_{40} x^{4} + A_{41} x^{4} y + A_{50} x^{5}$"
      ],
      "text/plain": [
       "A_02*y**2 + A_03*y**3 + A_04*y**4 + A_05*y**5 + A_11*x*y + A_12*x*y**2 + A_13*x*y**3 + A_14*x*y**4 + A_20*x**2 + A_21*x**2*y + A_22*x**2*y**2 + A_23*x**2*y**3 + A_30*x**3 + A_31*x**3*y + A_32*x**3*y**2 + A_40*x**4 + A_41*x**4*y + A_50*x**5"
      ]
     },
     "metadata": {},
     "output_type": "display_data"
    },
    {
     "name": "stdout",
     "output_type": "stream",
     "text": [
      "18\n"
     ]
    }
   ],
   "source": [
    "display(phi)\n",
    "print(count)"
   ]
  },
  {
   "cell_type": "code",
   "execution_count": 5,
   "id": "4e7971ee-b59b-476c-99ac-7766e897c37b",
   "metadata": {},
   "outputs": [],
   "source": [
    "def Laplacian(f):\n",
    "    return sym.diff(f, (x, 2)) + sym.diff(f, (y, 2))\n",
    "\n",
    "def biharmonic(f):\n",
    "    return Laplacian(Laplacian(f))"
   ]
  },
  {
   "cell_type": "code",
   "execution_count": 6,
   "id": "c657281f-d420-416d-a6cd-a0758415f017",
   "metadata": {},
   "outputs": [],
   "source": [
    "biharm = biharmonic(phi).expand()"
   ]
  },
  {
   "cell_type": "code",
   "execution_count": 7,
   "id": "47a8d2ef-1511-4543-84f1-afa3ad557a85",
   "metadata": {},
   "outputs": [],
   "source": [
    "biharm_x = biharm.coeff(x)\n",
    "biharm_y = biharm.coeff(y)\n",
    "biharm_c = biharm.subs([(x,0),(y,0)])"
   ]
  },
  {
   "cell_type": "code",
   "execution_count": 8,
   "id": "d69ac825-ba39-453a-8378-ad1eab9961bc",
   "metadata": {},
   "outputs": [],
   "source": [
    "sigmaxx = sym.diff(phi, (y, 2))\n",
    "sigmayy = sym.diff(phi, (x, 2))\n",
    "sigmaxy = -sym.diff(sym.diff(phi, x), y)"
   ]
  },
  {
   "cell_type": "code",
   "execution_count": 9,
   "id": "06540923-c223-41ac-9699-2a3515263d19",
   "metadata": {},
   "outputs": [],
   "source": [
    "# h=1; q0=1;\n",
    "# a = sym.symbols('a')\n",
    "\n",
    "a, h, q0,  = sym.symbols('a, h, q_0', positive=True)"
   ]
  },
  {
   "cell_type": "markdown",
   "id": "b3ec638f-2856-4b81-93af-2323a68162f5",
   "metadata": {},
   "source": [
    "Top Edge:"
   ]
  },
  {
   "cell_type": "code",
   "execution_count": 11,
   "id": "7013a7b2-01ac-45f7-96bd-327c13c871d2",
   "metadata": {},
   "outputs": [],
   "source": [
    "sigmayyTop = sigmayy.subs(y, -h)\n",
    "sigmaxyTop = sigmaxy.subs(y, -h)\n",
    "\n",
    "sigmayyTop_x = sigmayyTop.coeff(x)\n",
    "sigmayyTop_x2 = sigmayyTop.coeff(x**2)\n",
    "sigmayyTop_x3 = sigmayyTop.coeff(x**3)\n",
    "sigmayyTop_c = sigmayyTop.subs(x, 0)\n",
    "\n",
    "sigmaxyTop_x = sigmaxyTop.coeff(x)\n",
    "sigmaxyTop_x2 = sigmaxyTop.coeff(x**2)\n",
    "sigmaxyTop_x3 = sigmaxyTop.coeff(x**3)\n",
    "sigmaxyTop_c = sigmaxyTop.subs(x, 0)"
   ]
  },
  {
   "cell_type": "markdown",
   "id": "70955814-cd14-4840-b499-b5ac688b9e1f",
   "metadata": {},
   "source": [
    "Bottom Edge:"
   ]
  },
  {
   "cell_type": "code",
   "execution_count": 13,
   "id": "80378462-f70a-45cb-a725-a7b676085b32",
   "metadata": {},
   "outputs": [],
   "source": [
    "sigmayyBottom = sigmayy.subs(y, h)\n",
    "sigmaxyBottom = sigmaxy.subs(y, h)\n",
    "\n",
    "sigmayyBottom_x = sigmayyBottom.coeff(x)\n",
    "sigmayyBottom_x2 = sigmayyBottom.coeff(x**2)\n",
    "sigmayyBottom_x3 = sigmayyBottom.coeff(x**3)\n",
    "sigmayyBottom_c = sigmayyBottom.subs(x, 0)\n",
    "\n",
    "sigmaxyBottom_x = sigmaxyBottom.coeff(x)\n",
    "sigmaxyBottom_x2 = sigmaxyBottom.coeff(x**2)\n",
    "sigmaxyBottom_x3 = sigmaxyBottom.coeff(x**3)\n",
    "sigmaxyBottom_c = sigmaxyBottom.subs(x, 0)"
   ]
  },
  {
   "cell_type": "markdown",
   "id": "aeefc703-3288-49c0-a90a-3eaa6f3dc301",
   "metadata": {},
   "source": [
    "Right Edge:"
   ]
  },
  {
   "cell_type": "code",
   "execution_count": 15,
   "id": "23e0ba14-bf45-4ac0-84c5-d1dfbd7d33f6",
   "metadata": {},
   "outputs": [],
   "source": [
    "forceRight = sym.integrate(sigmaxx, (y, -h, h)).subs(x, a)\n",
    "momentRight = sym.integrate(sigmaxx*y, (y, -h, h)).subs(x, a)\n",
    "shearRight = sym.integrate(sigmaxy, (y, -h, h)).subs(x, a)"
   ]
  },
  {
   "cell_type": "markdown",
   "id": "04d82d30-79a8-4991-afa0-d5d39444b9ce",
   "metadata": {},
   "source": [
    "Left Edge:"
   ]
  },
  {
   "cell_type": "code",
   "execution_count": 17,
   "id": "584aa003-3b2d-4d3f-8680-e3d35b6945d8",
   "metadata": {},
   "outputs": [],
   "source": [
    "forceLeft = sym.integrate(sigmaxx, (y, -h, h)).subs(x, -a)\n",
    "momentLeft = sym.integrate(sigmaxx*y, (y, -h, h)).subs(x, -a)\n",
    "shearLeft = sym.integrate(sigmaxy, (y, -h, h)).subs(x, -a)"
   ]
  },
  {
   "cell_type": "markdown",
   "id": "d6a99a67-e814-4c21-ae60-4c6a82858317",
   "metadata": {},
   "source": [
    "If the boundary conditions and loading are different, change the RHS of the following"
   ]
  },
  {
   "cell_type": "code",
   "execution_count": 19,
   "id": "41f190f1-e130-477e-b70d-98778ce37f51",
   "metadata": {},
   "outputs": [],
   "source": [
    "cond1 = sym.Eq(biharm_x, 0)\n",
    "cond2 = sym.Eq(biharm_y, 0)\n",
    "cond3 = sym.Eq(biharm_c, 0)\n",
    "\n",
    "bc1 = sym.Eq(sigmayyTop_x, 0)\n",
    "bc2 = sym.Eq(sigmayyTop_x2, 0)\n",
    "bc3 = sym.Eq(sigmayyTop_x3, 0)\n",
    "bc4 = sym.Eq(sigmayyTop_c, -q0)\n",
    "bc5 = sym.Eq(sigmaxyTop_x, 0)\n",
    "bc6 = sym.Eq(sigmaxyTop_x2, 0)\n",
    "bc7 = sym.Eq(sigmaxyTop_x3, 0)\n",
    "bc8 = sym.Eq(sigmaxyTop_c, 0)\n",
    "\n",
    "\n",
    "bc9 = sym.Eq(sigmayyBottom_x, 0)\n",
    "bc10 = sym.Eq(sigmayyBottom_x2, 0)\n",
    "bc11 = sym.Eq(sigmayyBottom_x3, 0)\n",
    "bc12 = sym.Eq(sigmayyBottom_c, 0)\n",
    "bc13 = sym.Eq(sigmaxyBottom_x, 0)\n",
    "bc14 = sym.Eq(sigmaxyBottom_x2, 0)\n",
    "bc15 = sym.Eq(sigmaxyBottom_x3, 0)\n",
    "bc16 = sym.Eq(sigmaxyBottom_c, 0)\n",
    "\n",
    "bc17  = sym.Eq(forceRight, 0)\n",
    "bc18 = sym.Eq(momentRight, 0)\n",
    "bc19 = sym.Eq(shearRight, -q0*a)\n",
    "\n",
    "bc20  = sym.Eq(forceLeft, 0)\n",
    "bc21 = sym.Eq(momentLeft, 0)\n",
    "bc22 = sym.Eq(shearLeft, q0*a)"
   ]
  },
  {
   "cell_type": "code",
   "execution_count": 20,
   "id": "1323981f-f571-4b7e-909e-c8b85601bca8",
   "metadata": {},
   "outputs": [],
   "source": [
    "eq_list = list([cond1, cond2, cond3, bc1, bc2, bc3, bc4, bc5, bc6, bc7, bc8, bc9, bc10, bc11, bc12, bc13, bc14, bc15, bc16, \\\n",
    "            bc17, bc18, bc19, bc20, bc21, bc22])\n",
    "# display(eq_list)"
   ]
  },
  {
   "cell_type": "code",
   "execution_count": 21,
   "id": "a48abdce-1a93-495a-a6bd-8373ae4bc0da",
   "metadata": {},
   "outputs": [
    {
     "data": {
      "text/plain": [
       "18"
      ]
     },
     "metadata": {},
     "output_type": "display_data"
    }
   ],
   "source": [
    "vars_list = list(set().union(*[eq.free_symbols for eq in eq_list]))\n",
    "unknowns_list = vars_list\n",
    "unknowns_list.remove(q0)\n",
    "unknowns_list.remove(h)\n",
    "unknowns_list.remove(a)\n",
    "\n",
    "display(len(unknowns_list))"
   ]
  },
  {
   "cell_type": "code",
   "execution_count": 22,
   "id": "8bc6c6aa-ea9f-4c8f-b7da-d0c17e614806",
   "metadata": {},
   "outputs": [
    {
     "data": {
      "text/plain": [
       "{A_02: 0,\n",
       " A_03: (5*a**2*q_0 - 2*h**2*q_0)/(40*h**3),\n",
       " A_04: 0,\n",
       " A_05: q_0/(40*h**3),\n",
       " A_11: 0,\n",
       " A_12: 0,\n",
       " A_13: 0,\n",
       " A_14: 0,\n",
       " A_20: -q_0/4,\n",
       " A_21: 3*q_0/(8*h),\n",
       " A_22: 0,\n",
       " A_23: -q_0/(8*h**3),\n",
       " A_30: 0,\n",
       " A_31: 0,\n",
       " A_32: 0,\n",
       " A_40: 0,\n",
       " A_41: 0,\n",
       " A_50: 0}"
      ]
     },
     "metadata": {},
     "output_type": "display_data"
    }
   ],
   "source": [
    "sol = sym.solve(eq_list, unknowns_list)\n",
    "display(sol)"
   ]
  },
  {
   "cell_type": "code",
   "execution_count": 23,
   "id": "7f9f3a30-8846-43f1-b9b2-bb53362e37a0",
   "metadata": {},
   "outputs": [
    {
     "data": {
      "text/latex": [
       "$\\displaystyle - \\frac{3 q_{0} x^{2} y}{4 h^{3}} + \\frac{q_{0} y^{3}}{2 h^{3}} + \\frac{3 y \\left(5 a^{2} q_{0} - 2 h^{2} q_{0}\\right)}{20 h^{3}}$"
      ],
      "text/plain": [
       "-3*q_0*x**2*y/(4*h**3) + q_0*y**3/(2*h**3) + 3*y*(5*a**2*q_0 - 2*h**2*q_0)/(20*h**3)"
      ]
     },
     "metadata": {},
     "output_type": "display_data"
    }
   ],
   "source": [
    "sigmaxx = sigmaxx.subs(sol)\n",
    "display(sigmaxx)"
   ]
  },
  {
   "cell_type": "code",
   "execution_count": 24,
   "id": "948009a0-b57c-41fd-ab9a-ce166b8d5818",
   "metadata": {},
   "outputs": [
    {
     "data": {
      "text/latex": [
       "$\\displaystyle - \\frac{q_{0}}{2} + \\frac{3 q_{0} y}{4 h} - \\frac{q_{0} y^{3}}{4 h^{3}}$"
      ],
      "text/plain": [
       "-q_0/2 + 3*q_0*y/(4*h) - q_0*y**3/(4*h**3)"
      ]
     },
     "metadata": {},
     "output_type": "display_data"
    }
   ],
   "source": [
    "sigmayy = sigmayy.subs(sol)\n",
    "display(sigmayy)"
   ]
  },
  {
   "cell_type": "code",
   "execution_count": 25,
   "id": "1e38a833-aba2-44a7-909a-bc2f937e85f0",
   "metadata": {},
   "outputs": [
    {
     "data": {
      "text/latex": [
       "$\\displaystyle - \\frac{3 q_{0} x}{4 h} + \\frac{3 q_{0} x y^{2}}{4 h^{3}}$"
      ],
      "text/plain": [
       "-3*q_0*x/(4*h) + 3*q_0*x*y**2/(4*h**3)"
      ]
     },
     "metadata": {},
     "output_type": "display_data"
    }
   ],
   "source": [
    "sigmaxy = sigmaxy.subs(sol)\n",
    "display(sigmaxy)"
   ]
  },
  {
   "cell_type": "code",
   "execution_count": 26,
   "id": "227c1cba-bb65-4466-9570-ad5cd1f3d0db",
   "metadata": {},
   "outputs": [],
   "source": [
    "import numpy as np\n",
    "import matplotlib.pyplot as plt"
   ]
  },
  {
   "cell_type": "code",
   "execution_count": 27,
   "id": "bf5f8338-82ba-4430-bb6a-1eb208a469ac",
   "metadata": {},
   "outputs": [],
   "source": [
    "a_const = 10;"
   ]
  },
  {
   "cell_type": "code",
   "execution_count": 28,
   "id": "0de6fc5b-fb27-4e0f-839d-829b5bd076c6",
   "metadata": {},
   "outputs": [],
   "source": [
    "M = -q0*a*(a+x) + q0*(a+x)**2/2\n",
    "I = sym.Rational(2, 3)*h**3\n",
    "sigmaxx_MOM = (-M*y/I).expand()"
   ]
  },
  {
   "cell_type": "code",
   "execution_count": 29,
   "id": "3f27d1bd-232a-4bdb-b4cd-12b96020d1a5",
   "metadata": {},
   "outputs": [
    {
     "data": {
      "text/latex": [
       "$\\displaystyle \\frac{3 a^{2} q_{0} y}{4 h^{3}} - \\frac{3 q_{0} x^{2} y}{4 h^{3}}$"
      ],
      "text/plain": [
       "3*a**2*q_0*y/(4*h**3) - 3*q_0*x**2*y/(4*h**3)"
      ]
     },
     "execution_count": 29,
     "metadata": {},
     "output_type": "execute_result"
    }
   ],
   "source": [
    "sigmaxx_MOM"
   ]
  },
  {
   "cell_type": "code",
   "execution_count": 30,
   "id": "78b92832-75e6-4494-aa76-e034a7caaffd",
   "metadata": {},
   "outputs": [
    {
     "data": {
      "text/latex": [
       "$\\displaystyle - \\frac{3 q_{0} x^{2} y}{4 h^{3}} + \\frac{q_{0} y^{3}}{2 h^{3}} + \\frac{3 y \\left(5 a^{2} q_{0} - 2 h^{2} q_{0}\\right)}{20 h^{3}}$"
      ],
      "text/plain": [
       "-3*q_0*x**2*y/(4*h**3) + q_0*y**3/(2*h**3) + 3*y*(5*a**2*q_0 - 2*h**2*q_0)/(20*h**3)"
      ]
     },
     "execution_count": 30,
     "metadata": {},
     "output_type": "execute_result"
    }
   ],
   "source": [
    "sigmaxx"
   ]
  },
  {
   "cell_type": "code",
   "execution_count": 31,
   "id": "6bbbd7b9-36a7-428b-bf8d-0e15136310de",
   "metadata": {},
   "outputs": [
    {
     "data": {
      "text/latex": [
       "$\\displaystyle \\frac{q_{0} \\left|{y \\left(3 h^{2} - 5 y^{2}\\right)}\\right|}{10 h^{3}}$"
      ],
      "text/plain": [
       "q_0*Abs(y*(3*h**2 - 5*y**2))/(10*h**3)"
      ]
     },
     "metadata": {},
     "output_type": "display_data"
    }
   ],
   "source": [
    "sigmaxx_diff = abs((sigmaxx - sigmaxx_MOM).simplify())\n",
    "display(sigmaxx_diff)"
   ]
  },
  {
   "cell_type": "code",
   "execution_count": null,
   "id": "3fade50a-375c-459b-94e1-19677cf7b3e0",
   "metadata": {},
   "outputs": [],
   "source": []
  }
 ],
 "metadata": {
  "kernelspec": {
   "display_name": "Python [conda env:base] *",
   "language": "python",
   "name": "conda-base-py"
  },
  "language_info": {
   "codemirror_mode": {
    "name": "ipython",
    "version": 3
   },
   "file_extension": ".py",
   "mimetype": "text/x-python",
   "name": "python",
   "nbconvert_exporter": "python",
   "pygments_lexer": "ipython3",
   "version": "3.12.7"
  }
 },
 "nbformat": 4,
 "nbformat_minor": 5
}
